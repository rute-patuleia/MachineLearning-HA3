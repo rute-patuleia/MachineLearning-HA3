{
 "cells": [
  {
   "cell_type": "markdown",
   "metadata": {},
   "source": [
    "## Aprendizagem Automática 2023/2024\n",
    "#### 3rd Home Assignment - Group 8\n",
    "Rute Patuleia, 51780 | Tiago Assis, 62609 | João Lobato, 62611 | Miguel Landum, 35019"
   ]
  },
  {
   "cell_type": "markdown",
   "metadata": {},
   "source": [
    "#### Introduction"
   ]
  },
  {
   "cell_type": "code",
   "execution_count": 1,
   "metadata": {},
   "outputs": [],
   "source": [
    "# Importing all necessary libraries\n",
    "import pickle\n",
    "import numpy as np\n",
    "import pandas as pd\n",
    "import seaborn as sns\n",
    "import matplotlib.pyplot as plt\n",
    "from sklearn.preprocessing import StandardScaler, MinMaxScaler, PowerTransformer, Normalizer\n",
    "from sklearn.tree import DecisionTreeRegressor\n",
    "from statsmodels.api import OLS, add_constant\n",
    "from sklearn.linear_model import LinearRegression, Ridge, Lasso\n",
    "from sklearn.neighbors import KNeighborsRegressor\n",
    "from sklearn.svm import SVR\n",
    "from sklearn.neural_network import MLPRegressor\n",
    "from sklearn.ensemble import BaggingRegressor, RandomForestRegressor, AdaBoostRegressor, GradientBoostingRegressor, VotingRegressor, StackingRegressor\n",
    "from xgboost import XGBRegressor\n",
    "from sklearn.feature_selection import SelectFromModel\n",
    "from sklearn.decomposition import PCA, KernelPCA\n",
    "from sklearn.model_selection import KFold, GridSearchCV\n",
    "from sklearn.metrics import explained_variance_score, mean_squared_error, max_error, mean_absolute_error\n",
    "from scipy.stats import pearsonr"
   ]
  },
  {
   "cell_type": "code",
   "execution_count": 2,
   "metadata": {},
   "outputs": [],
   "source": [
    "# Defining functions to calculate and print out model statistics\n",
    "def get_stats(y_test, preds):   \n",
    "    rve = explained_variance_score(y_test, preds)\n",
    "    rmse = mean_squared_error(y_test, preds, squared=False)\n",
    "    corr, pval = pearsonr(y_test, preds)\n",
    "    maxe = max_error(y_test, preds)\n",
    "    mae = mean_absolute_error(y_test, preds)\n",
    "    stats = rve, rmse, corr, pval, maxe, mae\n",
    "    return stats\n",
    "\n",
    "def print_stats(stats):\n",
    "    print(\"These are the statistics:\")\n",
    "    print(\"The RVE is:\", stats[0])\n",
    "    print(\"The rmse is:\", stats[1])\n",
    "    print(\"The Correlation Score is: %6.4f (p-value=%e)\\n\"%(stats[2], stats[3]))\n",
    "    print(\"The Maximum Error is:\", stats[4])\n",
    "    print(\"The Mean Absolute Error is:\", stats[5])"
   ]
  },
  {
   "cell_type": "code",
   "execution_count": 28,
   "metadata": {},
   "outputs": [],
   "source": [
    "# Loading the dataset\n",
    "X_TRAIN, X_IVS, y_TRAIN, col_names = pickle.load(open(\"drd2_data.pickle\", \"rb\"))"
   ]
  },
  {
   "cell_type": "code",
   "execution_count": 29,
   "metadata": {},
   "outputs": [],
   "source": [
    "# Converting to DataFrame\n",
    "X_TRAIN = pd.DataFrame(X_TRAIN, columns=col_names)\n",
    "y_TRAIN = pd.Series(y_TRAIN, name=\"molecular_activity\")\n",
    "X_IVS = pd.DataFrame(X_IVS, columns=col_names)"
   ]
  },
  {
   "cell_type": "code",
   "execution_count": 206,
   "metadata": {},
   "outputs": [
    {
     "data": {
      "text/html": [
       "<div>\n",
       "<style scoped>\n",
       "    .dataframe tbody tr th:only-of-type {\n",
       "        vertical-align: middle;\n",
       "    }\n",
       "\n",
       "    .dataframe tbody tr th {\n",
       "        vertical-align: top;\n",
       "    }\n",
       "\n",
       "    .dataframe thead th {\n",
       "        text-align: right;\n",
       "    }\n",
       "</style>\n",
       "<table border=\"1\" class=\"dataframe\">\n",
       "  <thead>\n",
       "    <tr style=\"text-align: right;\">\n",
       "      <th></th>\n",
       "      <th>D00</th>\n",
       "      <th>D01</th>\n",
       "      <th>D02</th>\n",
       "      <th>D03</th>\n",
       "      <th>D04</th>\n",
       "      <th>D05</th>\n",
       "      <th>D06</th>\n",
       "      <th>D07</th>\n",
       "      <th>D08</th>\n",
       "      <th>D09</th>\n",
       "      <th>...</th>\n",
       "      <th>FP2079</th>\n",
       "      <th>FP2080</th>\n",
       "      <th>FP2081</th>\n",
       "      <th>FP2082</th>\n",
       "      <th>FP2083</th>\n",
       "      <th>FP2084</th>\n",
       "      <th>FP2085</th>\n",
       "      <th>FP2086</th>\n",
       "      <th>FP2087</th>\n",
       "      <th>FP2088</th>\n",
       "    </tr>\n",
       "  </thead>\n",
       "  <tbody>\n",
       "    <tr>\n",
       "      <th>0</th>\n",
       "      <td>541.280138</td>\n",
       "      <td>541.656</td>\n",
       "      <td>10.0</td>\n",
       "      <td>1.0</td>\n",
       "      <td>8.0</td>\n",
       "      <td>1.0</td>\n",
       "      <td>10.0</td>\n",
       "      <td>40.0</td>\n",
       "      <td>75.0</td>\n",
       "      <td>10.0</td>\n",
       "      <td>...</td>\n",
       "      <td>0.0</td>\n",
       "      <td>0.0</td>\n",
       "      <td>0.0</td>\n",
       "      <td>0.0</td>\n",
       "      <td>0.0</td>\n",
       "      <td>0.0</td>\n",
       "      <td>0.0</td>\n",
       "      <td>0.0</td>\n",
       "      <td>0.0</td>\n",
       "      <td>0.0</td>\n",
       "    </tr>\n",
       "    <tr>\n",
       "      <th>1</th>\n",
       "      <td>426.197714</td>\n",
       "      <td>426.582</td>\n",
       "      <td>5.0</td>\n",
       "      <td>1.0</td>\n",
       "      <td>9.0</td>\n",
       "      <td>1.0</td>\n",
       "      <td>4.0</td>\n",
       "      <td>30.0</td>\n",
       "      <td>60.0</td>\n",
       "      <td>6.0</td>\n",
       "      <td>...</td>\n",
       "      <td>0.0</td>\n",
       "      <td>0.0</td>\n",
       "      <td>0.0</td>\n",
       "      <td>0.0</td>\n",
       "      <td>0.0</td>\n",
       "      <td>0.0</td>\n",
       "      <td>0.0</td>\n",
       "      <td>0.0</td>\n",
       "      <td>0.0</td>\n",
       "      <td>0.0</td>\n",
       "    </tr>\n",
       "    <tr>\n",
       "      <th>2</th>\n",
       "      <td>348.183778</td>\n",
       "      <td>348.446</td>\n",
       "      <td>4.0</td>\n",
       "      <td>0.0</td>\n",
       "      <td>3.0</td>\n",
       "      <td>0.0</td>\n",
       "      <td>3.0</td>\n",
       "      <td>26.0</td>\n",
       "      <td>50.0</td>\n",
       "      <td>4.0</td>\n",
       "      <td>...</td>\n",
       "      <td>1.0</td>\n",
       "      <td>0.0</td>\n",
       "      <td>0.0</td>\n",
       "      <td>0.0</td>\n",
       "      <td>0.0</td>\n",
       "      <td>0.0</td>\n",
       "      <td>0.0</td>\n",
       "      <td>0.0</td>\n",
       "      <td>0.0</td>\n",
       "      <td>0.0</td>\n",
       "    </tr>\n",
       "    <tr>\n",
       "      <th>3</th>\n",
       "      <td>1455.763803</td>\n",
       "      <td>1456.831</td>\n",
       "      <td>27.0</td>\n",
       "      <td>19.0</td>\n",
       "      <td>23.0</td>\n",
       "      <td>17.0</td>\n",
       "      <td>16.0</td>\n",
       "      <td>105.0</td>\n",
       "      <td>206.0</td>\n",
       "      <td>28.0</td>\n",
       "      <td>...</td>\n",
       "      <td>0.0</td>\n",
       "      <td>0.0</td>\n",
       "      <td>0.0</td>\n",
       "      <td>0.0</td>\n",
       "      <td>0.0</td>\n",
       "      <td>0.0</td>\n",
       "      <td>0.0</td>\n",
       "      <td>1.0</td>\n",
       "      <td>1.0</td>\n",
       "      <td>1.0</td>\n",
       "    </tr>\n",
       "    <tr>\n",
       "      <th>4</th>\n",
       "      <td>387.151368</td>\n",
       "      <td>387.886</td>\n",
       "      <td>4.0</td>\n",
       "      <td>0.0</td>\n",
       "      <td>4.0</td>\n",
       "      <td>0.0</td>\n",
       "      <td>4.0</td>\n",
       "      <td>27.0</td>\n",
       "      <td>50.0</td>\n",
       "      <td>6.0</td>\n",
       "      <td>...</td>\n",
       "      <td>0.0</td>\n",
       "      <td>0.0</td>\n",
       "      <td>0.0</td>\n",
       "      <td>0.0</td>\n",
       "      <td>0.0</td>\n",
       "      <td>0.0</td>\n",
       "      <td>0.0</td>\n",
       "      <td>0.0</td>\n",
       "      <td>0.0</td>\n",
       "      <td>0.0</td>\n",
       "    </tr>\n",
       "  </tbody>\n",
       "</table>\n",
       "<p>5 rows × 2132 columns</p>\n",
       "</div>"
      ],
      "text/plain": [
       "           D00       D01   D02   D03   D04   D05   D06    D07    D08   D09  \\\n",
       "0   541.280138   541.656  10.0   1.0   8.0   1.0  10.0   40.0   75.0  10.0   \n",
       "1   426.197714   426.582   5.0   1.0   9.0   1.0   4.0   30.0   60.0   6.0   \n",
       "2   348.183778   348.446   4.0   0.0   3.0   0.0   3.0   26.0   50.0   4.0   \n",
       "3  1455.763803  1456.831  27.0  19.0  23.0  17.0  16.0  105.0  206.0  28.0   \n",
       "4   387.151368   387.886   4.0   0.0   4.0   0.0   4.0   27.0   50.0   6.0   \n",
       "\n",
       "   ...  FP2079  FP2080  FP2081  FP2082  FP2083  FP2084  FP2085  FP2086  \\\n",
       "0  ...     0.0     0.0     0.0     0.0     0.0     0.0     0.0     0.0   \n",
       "1  ...     0.0     0.0     0.0     0.0     0.0     0.0     0.0     0.0   \n",
       "2  ...     1.0     0.0     0.0     0.0     0.0     0.0     0.0     0.0   \n",
       "3  ...     0.0     0.0     0.0     0.0     0.0     0.0     0.0     1.0   \n",
       "4  ...     0.0     0.0     0.0     0.0     0.0     0.0     0.0     0.0   \n",
       "\n",
       "   FP2087  FP2088  \n",
       "0     0.0     0.0  \n",
       "1     0.0     0.0  \n",
       "2     0.0     0.0  \n",
       "3     1.0     1.0  \n",
       "4     0.0     0.0  \n",
       "\n",
       "[5 rows x 2132 columns]"
      ]
     },
     "execution_count": 206,
     "metadata": {},
     "output_type": "execute_result"
    }
   ],
   "source": [
    "X_TRAIN.head()"
   ]
  },
  {
   "cell_type": "code",
   "execution_count": 207,
   "metadata": {},
   "outputs": [
    {
     "data": {
      "text/plain": [
       "0    0.654947\n",
       "1    0.649995\n",
       "2    0.154947\n",
       "3    0.616176\n",
       "4    0.359725\n",
       "Name: molecular_activity, dtype: float64"
      ]
     },
     "execution_count": 207,
     "metadata": {},
     "output_type": "execute_result"
    }
   ],
   "source": [
    "y_TRAIN.head()"
   ]
  },
  {
   "cell_type": "code",
   "execution_count": 6,
   "metadata": {},
   "outputs": [
    {
     "name": "stdout",
     "output_type": "stream",
     "text": [
      "(7337, 2132)\n",
      "(7337,)\n",
      "(816, 2132)\n"
     ]
    }
   ],
   "source": [
    "# Checking number of rows and columns\n",
    "print(X_TRAIN.shape)\n",
    "print(y_TRAIN.shape)\n",
    "print(X_IVS.shape)"
   ]
  },
  {
   "cell_type": "code",
   "execution_count": 7,
   "metadata": {},
   "outputs": [
    {
     "name": "stdout",
     "output_type": "stream",
     "text": [
      "0\n",
      "0\n",
      "0\n"
     ]
    }
   ],
   "source": [
    "# Checking for null values\n",
    "# If 0, none are present\n",
    "print(X_TRAIN[X_TRAIN.isnull().all(axis=1)].shape[0])\n",
    "print(y_TRAIN[y_TRAIN.isnull()].shape[0])\n",
    "print(X_IVS[X_IVS.isnull().all(axis=1)].shape[0])"
   ]
  },
  {
   "cell_type": "code",
   "execution_count": 5,
   "metadata": {},
   "outputs": [],
   "source": [
    "# Defining the k-fold cross validation function\n",
    "def kfold(model, n_splits=5, nX_TRAIN=X_TRAIN, scaler=MinMaxScaler()):\n",
    "    \"\"\"Performs cross validation with a given model, scaling the data for each fold.\n",
    "\n",
    "    Args:\n",
    "        model (Any): Model used for cross validation.\n",
    "        n_splits (int, optional): Number of folds to split the data for cross validation. Must be at least 2. Defaults to 5.\n",
    "        nX_TRAIN (DataFrame, optional): Data used to fit the model. Defaults to X_TRAIN.\n",
    "        scaler (Any, optional): Scaler used to transform the data features. Defaults to MinMaxScaler().\n",
    "\n",
    "    Returns:\n",
    "        numpy.ndarray: Returns two arrays with the ground truth and the respective predictions estimated for each fold.\n",
    "    \"\"\"\n",
    "\n",
    "    # Defining the k-fold parameters\n",
    "    kf = KFold(n_splits=n_splits, shuffle=True, random_state=13)\n",
    "    truth = None\n",
    "    preds = None\n",
    "\n",
    "    # If the dataset is divisible by 'n_splits', just split it\n",
    "    if nX_TRAIN.shape[0] % n_splits == 0:\n",
    "        to_split = nX_TRAIN\n",
    "    # Else, remove the remainder so the number of rows in each fold are always the same\n",
    "    else:\n",
    "        to_split = nX_TRAIN.iloc[:-(nX_TRAIN.shape[0] % n_splits)]\n",
    "\n",
    "    # Perform the splits\n",
    "    for train_index, test_index in kf.split(to_split):\n",
    "        X_train, X_test = nX_TRAIN.iloc[train_index], nX_TRAIN.iloc[test_index]\n",
    "        y_train, y_test = y_TRAIN.iloc[train_index], y_TRAIN.iloc[test_index]\n",
    "        # Scaling the data\n",
    "        if scaler:\n",
    "            X_train = scaler.fit_transform(X_train)\n",
    "            X_test = scaler.transform(X_test)\n",
    "        # Fitting the model and generating predictions\n",
    "        mdl = model.fit(X_train, y_train)\n",
    "        mdl_preds = mdl.predict(X_test)\n",
    "        # Storing the current fold's predictions and the respective truth\n",
    "        if truth is None:\n",
    "            truth = y_test\n",
    "            preds = mdl_preds\n",
    "        else:\n",
    "            truth = np.hstack((truth, y_test))\n",
    "            preds = np.hstack((preds, mdl_preds))\n",
    "\n",
    "    # Returns two arrays with the ground truth and the respective predictions estimated for each fold\n",
    "    return truth, preds"
   ]
  },
  {
   "cell_type": "markdown",
   "metadata": {},
   "source": [
    "#### Simple scaler testing"
   ]
  },
  {
   "cell_type": "code",
   "execution_count": null,
   "metadata": {},
   "outputs": [],
   "source": [
    "# Testing combinations of models and scalers\n",
    "models = [LinearRegression(), KNeighborsRegressor(), SVR(), MLPRegressor()]\n",
    "scalers = [StandardScaler(), MinMaxScaler(), PowerTransformer(), Normalizer()]\n",
    "\n",
    "results = {\n",
    "    \"rmse\": [],\n",
    "    \"model\": [],\n",
    "    \"scaler\": []\n",
    "}\n",
    "\n",
    "for model in models:\n",
    "    for scaler in scalers:\n",
    "        model = model.fit(X_TRAIN, y_TRAIN)\n",
    "        truth, preds = kfold(model, n_splits=11, scaler=scaler)\n",
    "        results[\"rmse\"].append(mean_squared_error(truth, preds, squared=False))\n",
    "        results[\"model\"].append(repr(model))\n",
    "        results[\"scaler\"].append(repr(scaler))"
   ]
  },
  {
   "cell_type": "code",
   "execution_count": 20,
   "metadata": {},
   "outputs": [],
   "source": [
    "results_df = pd.DataFrame(results).groupby([\"model\", \"scaler\"])[\"rmse\"].mean().reset_index()\n",
    "pivot_table = results_df[[\"model\", \"scaler\", \"rmse\"]].pivot_table(index=\"scaler\", columns=\"model\", values=\"rmse\")"
   ]
  },
  {
   "cell_type": "code",
   "execution_count": 26,
   "metadata": {},
   "outputs": [
    {
     "data": {
      "image/png": "[encoded data removed]",
      "text/plain": [
       "<Figure size 1500x500 with 2 Axes>"
      ]
     },
     "metadata": {},
     "output_type": "display_data"
    }
   ],
   "source": [
    "# Heatmap of the models vs. scalers with rmse values\n",
    "plt.figure(figsize=(15, 5))\n",
    "sns.heatmap(pivot_table, cmap='YlOrRd', annot=True, fmt=\".4f\", linewidths=0.3, cbar_kws={'label': 'rmse'})\n",
    "plt.xlabel('Model')\n",
    "plt.ylabel('Scaler')\n",
    "plt.show()"
   ]
  },
  {
   "cell_type": "markdown",
   "metadata": {},
   "source": [
    "#### Simple model testing"
   ]
  },
  {
   "cell_type": "code",
   "execution_count": 7,
   "metadata": {},
   "outputs": [],
   "source": [
    "# Creating dictionary that will hold all preliminary model results\n",
    "preliminary_testing = {\n",
    "    \"Model\": [], \n",
    "    \"Hyperparameters\": [],\n",
    "    \"RVE\": [],\n",
    "    \"rmse\": [],\n",
    "    \"Pearson's correlation\": [],\n",
    "    \"Maximum error\": [],\n",
    "    \"Mean absolute error\": []\n",
    "}\n",
    "\n",
    "# Defining an function to populate the previous dictionary for each model test\n",
    "def preliminary_results(model=None, stats=None, params=\"default\"):\n",
    "    if model and stats:\n",
    "        preliminary_testing[\"Model\"].append(model)\n",
    "        preliminary_testing[\"Hyperparameters\"].append(params)\n",
    "        preliminary_testing[\"RVE\"].append(stats[0])\n",
    "        preliminary_testing[\"rmse\"].append(stats[1])\n",
    "        preliminary_testing[\"Pearson's correlation\"].append(stats[2])\n",
    "        preliminary_testing[\"Maximum error\"].append(stats[4])\n",
    "        preliminary_testing[\"Mean absolute error\"].append(stats[5])\n",
    "    else:\n",
    "        print(\"Please provide a model and the respective performance statistics.\")"
   ]
  },
  {
   "cell_type": "markdown",
   "metadata": {},
   "source": [
    "Decision Trees"
   ]
  },
  {
   "cell_type": "code",
   "execution_count": 252,
   "metadata": {},
   "outputs": [
    {
     "name": "stdout",
     "output_type": "stream",
     "text": [
      "These are the statistics:\n",
      "The RVE is: 0.32030305465440256\n",
      "The rmse is: 0.22807352253873658\n",
      "The Correlation Score is: 0.6599 (p-value=0.000000e+00)\n",
      "\n",
      "The Maximum Error is: 1.0\n",
      "The Mean Absolute Error is: 0.15744636794812822\n"
     ]
    }
   ],
   "source": [
    "dectree = DecisionTreeRegressor()\n",
    "truth, preds = kfold(dectree, n_splits=11, scaler=None)\n",
    "stats = get_stats(truth, preds)\n",
    "print_stats(stats)\n",
    "\n",
    "preliminary_results(\"Decision Tree\", stats)"
   ]
  },
  {
   "cell_type": "code",
   "execution_count": 27,
   "metadata": {},
   "outputs": [
    {
     "name": "stdout",
     "output_type": "stream",
     "text": [
      "These are the statistics:\n",
      "The RVE is: 0.30961761832357115\n",
      "The rmse is: 0.2298568139293533\n",
      "The Correlation Score is: 0.6535 (p-value=0.000000e+00)\n",
      "\n",
      "The Maximum Error is: 1.0\n",
      "The Mean Absolute Error is: 0.15873668419700215\n"
     ]
    }
   ],
   "source": [
    "dectree = DecisionTreeRegressor(max_depth=40)\n",
    "truth, preds = kfold(dectree, n_splits=11, scaler=None)\n",
    "stats = get_stats(truth, preds)\n",
    "print_stats(stats)\n",
    "\n",
    "preliminary_results(\"Decision Tree\", stats, params=\"max_depth=40\")"
   ]
  },
  {
   "cell_type": "markdown",
   "metadata": {},
   "source": [
    "K-Nearest Neighbours"
   ]
  },
  {
   "cell_type": "code",
   "execution_count": 253,
   "metadata": {},
   "outputs": [
    {
     "name": "stdout",
     "output_type": "stream",
     "text": [
      "These are the statistics:\n",
      "The RVE is: 0.6275680282150948\n",
      "The rmse is: 0.1689419233855493\n",
      "The Correlation Score is: 0.7934 (p-value=0.000000e+00)\n",
      "\n",
      "The Maximum Error is: 0.9025431056\n",
      "The Mean Absolute Error is: 0.12223732262810412\n"
     ]
    }
   ],
   "source": [
    "knn = KNeighborsRegressor()\n",
    "truth, preds = kfold(knn, n_splits=11)\n",
    "stats = get_stats(truth, preds)\n",
    "print_stats(stats)\n",
    "\n",
    "preliminary_results(\"K-Nearest Neighbours\", stats)"
   ]
  },
  {
   "cell_type": "code",
   "execution_count": 280,
   "metadata": {},
   "outputs": [
    {
     "name": "stdout",
     "output_type": "stream",
     "text": [
      "These are the statistics:\n",
      "The RVE is: 0.606544739482201\n",
      "The rmse is: 0.17369540033627942\n",
      "The Correlation Score is: 0.7886 (p-value=0.000000e+00)\n",
      "\n",
      "The Maximum Error is: 0.9655843844668794\n",
      "The Mean Absolute Error is: 0.11962030927442664\n"
     ]
    }
   ],
   "source": [
    "knn15 = KNeighborsRegressor(n_neighbors=15, weights=lambda x: np.exp(-(x**2)/5))\n",
    "truth, preds = kfold(knn15, n_splits=11)\n",
    "stats = get_stats(truth, preds)\n",
    "print_stats(stats)\n",
    "\n",
    "preliminary_results(\"K-Nearest Neighbours\", stats, params=\"n_neighbors=15, weights=gaussian(kernel_weight=5)\")"
   ]
  },
  {
   "cell_type": "markdown",
   "metadata": {},
   "source": [
    "Linear Regression"
   ]
  },
  {
   "cell_type": "code",
   "execution_count": null,
   "metadata": {},
   "outputs": [
    {
     "name": "stdout",
     "output_type": "stream",
     "text": [
      "                            OLS Regression Results                            \n",
      "==============================================================================\n",
      "Dep. Variable:     molecular_activity   R-squared:                       0.775\n",
      "Model:                            OLS   Adj. R-squared:                  0.683\n",
      "Method:                 Least Squares   F-statistic:                     8.426\n",
      "Date:                Sat, 16 Dec 2023   Prob (F-statistic):               0.00\n",
      "Time:                        19:49:11   Log-Likelihood:                 4488.4\n",
      "No. Observations:                7337   AIC:                            -4719.\n",
      "Df Residuals:                    5208   BIC:                             9973.\n",
      "Df Model:                        2128                                         \n",
      "Covariance Type:            nonrobust                                         \n",
      "==============================================================================\n",
      "==============================================================================\n",
      "Omnibus:                       82.421   Durbin-Watson:                   1.968\n",
      "Prob(Omnibus):                  0.000   Jarque-Bera (JB):              142.873\n",
      "Skew:                          -0.008   Prob(JB):                     9.45e-32\n",
      "Kurtosis:                       3.683   Cond. No.                     9.15e+18\n",
      "==============================================================================\n"
     ]
    }
   ],
   "source": [
    "# Checking how a linear regression fits our model\n",
    "X_tr = add_constant(X_TRAIN)\n",
    "mdl = OLS(y_TRAIN, X_tr, hasconst=12).fit()\n",
    "print(mdl.summary().tables[0])\n",
    "#print(mdl.summary().tables[1])\n",
    "print(mdl.summary().tables[2])"
   ]
  },
  {
   "cell_type": "code",
   "execution_count": 255,
   "metadata": {},
   "outputs": [
    {
     "name": "stdout",
     "output_type": "stream",
     "text": [
      "These are the statistics:\n",
      "The RVE is: 0.47034592126409946\n",
      "The rmse is: 0.20134014117213955\n",
      "The Correlation Score is: 0.7190 (p-value=0.000000e+00)\n",
      "\n",
      "The Maximum Error is: 1.097581783416019\n",
      "The Mean Absolute Error is: 0.15287227492518127\n"
     ]
    }
   ],
   "source": [
    "lr = LinearRegression()\n",
    "truth, preds = kfold(lr, n_splits=11)\n",
    "stats = get_stats(truth, preds)\n",
    "print_stats(stats)\n",
    "\n",
    "preliminary_results(\"Linear Regression\", stats)"
   ]
  },
  {
   "cell_type": "code",
   "execution_count": 256,
   "metadata": {},
   "outputs": [
    {
     "name": "stdout",
     "output_type": "stream",
     "text": [
      "These are the statistics:\n",
      "The RVE is: 0.48835724735219743\n",
      "The rmse is: 0.1978852407005568\n",
      "The Correlation Score is: 0.7244 (p-value=0.000000e+00)\n",
      "\n",
      "The Maximum Error is: 1.0658934959964899\n",
      "The Mean Absolute Error is: 0.15054782099417158\n"
     ]
    }
   ],
   "source": [
    "ridge = Ridge(max_iter=10000)\n",
    "truth, preds = kfold(ridge, n_splits=11)\n",
    "stats = get_stats(truth, preds)\n",
    "print_stats(stats)\n",
    "\n",
    "preliminary_results(\"Ridge\", stats)"
   ]
  },
  {
   "cell_type": "code",
   "execution_count": 257,
   "metadata": {},
   "outputs": [
    {
     "name": "stdout",
     "output_type": "stream",
     "text": [
      "These are the statistics:\n",
      "The RVE is: 0.5770892552274197\n",
      "The rmse is: 0.17990526939896626\n",
      "The Correlation Score is: 0.7617 (p-value=0.000000e+00)\n",
      "\n",
      "The Maximum Error is: 0.9332393458645816\n",
      "The Mean Absolute Error is: 0.13755103349737624\n"
     ]
    }
   ],
   "source": [
    "lasso = Lasso(alpha=0.0001, max_iter=10000)\n",
    "truth, preds = kfold(lasso, n_splits=11)\n",
    "stats = get_stats(truth, preds)\n",
    "print_stats(stats)\n",
    "\n",
    "preliminary_results(\"Lasso\", stats, params=\"alpha=0.0001\")"
   ]
  },
  {
   "cell_type": "markdown",
   "metadata": {},
   "source": [
    "Support Vector Machines"
   ]
  },
  {
   "cell_type": "code",
   "execution_count": 258,
   "metadata": {},
   "outputs": [
    {
     "name": "stdout",
     "output_type": "stream",
     "text": [
      "These are the statistics:\n",
      "The RVE is: 0.6624637533321326\n",
      "The rmse is: 0.16079090861367407\n",
      "The Correlation Score is: 0.8172 (p-value=0.000000e+00)\n",
      "\n",
      "The Maximum Error is: 0.8302717731922313\n",
      "The Mean Absolute Error is: 0.1235558104029729\n"
     ]
    }
   ],
   "source": [
    "svr = SVR()\n",
    "truth, preds = kfold(svr, n_splits=11)\n",
    "stats = get_stats(truth, preds)\n",
    "print_stats(stats)\n",
    "\n",
    "preliminary_results(\"Support Vector Machine\", stats)"
   ]
  },
  {
   "cell_type": "code",
   "execution_count": 259,
   "metadata": {},
   "outputs": [
    {
     "name": "stdout",
     "output_type": "stream",
     "text": [
      "These are the statistics:\n",
      "The RVE is: 0.6812569004894783\n",
      "The rmse is: 0.15619149102083502\n",
      "The Correlation Score is: 0.8256 (p-value=0.000000e+00)\n",
      "\n",
      "The Maximum Error is: 0.8686262969532121\n",
      "The Mean Absolute Error is: 0.11328840951972584\n"
     ]
    }
   ],
   "source": [
    "svr_tune = SVR(epsilon=0.01, gamma=0.01, max_iter=99999)\n",
    "truth, preds = kfold(svr_tune, n_splits=11)\n",
    "stats = get_stats(truth, preds)\n",
    "print_stats(stats)\n",
    "\n",
    "preliminary_results(\"Support Vector Machine\", stats, params=\"epsilon=0.01, gamma=0.01\")"
   ]
  },
  {
   "cell_type": "markdown",
   "metadata": {},
   "source": [
    "Random Forests"
   ]
  },
  {
   "cell_type": "code",
   "execution_count": 260,
   "metadata": {},
   "outputs": [
    {
     "name": "stdout",
     "output_type": "stream",
     "text": [
      "These are the statistics:\n",
      "The RVE is: 0.6490295445696774\n",
      "The rmse is: 0.16391843337171944\n",
      "The Correlation Score is: 0.8076 (p-value=0.000000e+00)\n",
      "\n",
      "The Maximum Error is: 0.8406636493199999\n",
      "The Mean Absolute Error is: 0.12206244600723813\n"
     ]
    }
   ],
   "source": [
    "rfr = RandomForestRegressor(random_state=13)\n",
    "truth, preds = kfold(rfr, n_splits=11, scaler=None)\n",
    "stats = get_stats(truth, preds)\n",
    "print_stats(stats)\n",
    "\n",
    "preliminary_results(\"Random Forest\", stats)"
   ]
  },
  {
   "cell_type": "code",
   "execution_count": 261,
   "metadata": {},
   "outputs": [
    {
     "name": "stdout",
     "output_type": "stream",
     "text": [
      "These are the statistics:\n",
      "The RVE is: 0.6491194084319709\n",
      "The rmse is: 0.16389252017549694\n",
      "The Correlation Score is: 0.8078 (p-value=0.000000e+00)\n",
      "\n",
      "The Maximum Error is: 0.8337549167642352\n",
      "The Mean Absolute Error is: 0.12213293420669376\n"
     ]
    }
   ],
   "source": [
    "rfr40 = RandomForestRegressor(max_depth=40, random_state=13)\n",
    "truth, preds = kfold(rfr40, n_splits=11, scaler=None)\n",
    "stats = get_stats(truth, preds)\n",
    "print_stats(stats)\n",
    "\n",
    "preliminary_results(\"Random Forest\", stats, params=\"max_depth=40\")"
   ]
  },
  {
   "cell_type": "markdown",
   "metadata": {},
   "source": [
    "Bagging (Bootstrap Aggregation)"
   ]
  },
  {
   "cell_type": "code",
   "execution_count": 262,
   "metadata": {},
   "outputs": [
    {
     "name": "stdout",
     "output_type": "stream",
     "text": [
      "These are the statistics:\n",
      "The RVE is: 0.6097152771451483\n",
      "The rmse is: 0.17285874708775975\n",
      "The Correlation Score is: 0.7809 (p-value=0.000000e+00)\n",
      "\n",
      "The Maximum Error is: 0.9109037676\n",
      "The Mean Absolute Error is: 0.12777252658693053\n"
     ]
    }
   ],
   "source": [
    "bag_dectree = BaggingRegressor(random_state=13)\n",
    "truth, preds = kfold(bag_dectree, n_splits=11, scaler=None)\n",
    "stats = get_stats(truth, preds)\n",
    "print_stats(stats)\n",
    "\n",
    "preliminary_results(\"Bagging\", stats) # 0.60838 0.17316"
   ]
  },
  {
   "cell_type": "code",
   "execution_count": 263,
   "metadata": {},
   "outputs": [
    {
     "name": "stdout",
     "output_type": "stream",
     "text": [
      "These are the statistics:\n",
      "The RVE is: 0.6107906669728884\n",
      "The rmse is: 0.17262183106781595\n",
      "The Correlation Score is: 0.7816 (p-value=0.000000e+00)\n",
      "\n",
      "The Maximum Error is: 0.9357897300401089\n",
      "The Mean Absolute Error is: 0.12800369222538843\n"
     ]
    }
   ],
   "source": [
    "bag_dectree40 = BaggingRegressor(DecisionTreeRegressor(max_depth=40), random_state=13)\n",
    "truth, preds = kfold(bag_dectree40, n_splits=11, scaler=None)\n",
    "stats = get_stats(truth, preds)\n",
    "print_stats(stats)\n",
    "\n",
    "preliminary_results(\"Bagging\", stats, params=\"estimator=DecisionTreeRegressor(max_depth=40)\")"
   ]
  },
  {
   "cell_type": "code",
   "execution_count": 264,
   "metadata": {},
   "outputs": [
    {
     "name": "stdout",
     "output_type": "stream",
     "text": [
      "These are the statistics:\n",
      "The RVE is: 0.6399077768652662\n",
      "The rmse is: 0.16614482989845922\n",
      "The Correlation Score is: 0.8028 (p-value=0.000000e+00)\n",
      "\n",
      "The Maximum Error is: 0.9278935348225621\n",
      "The Mean Absolute Error is: 0.11756813858932315\n"
     ]
    }
   ],
   "source": [
    "bag_knn_tune = BaggingRegressor(KNeighborsRegressor(n_neighbors=15, weights=lambda x: np.exp(-(x**2)/5)), random_state=13)\n",
    "truth, preds = kfold(bag_knn_tune, n_splits=11)\n",
    "stats = get_stats(truth, preds)\n",
    "print_stats(stats)\n",
    "\n",
    "preliminary_results(\"Bagging\", stats, params=\"estimator=KNeighborsRegressor(n_neighbors=15, weights=gaussian(kernel_weight=5))\")"
   ]
  },
  {
   "cell_type": "code",
   "execution_count": 265,
   "metadata": {},
   "outputs": [
    {
     "name": "stdout",
     "output_type": "stream",
     "text": [
      "These are the statistics:\n",
      "The RVE is: 0.6289835597138193\n",
      "The rmse is: 0.1685133171916892\n",
      "The Correlation Score is: 0.8035 (p-value=0.000000e+00)\n",
      "\n",
      "The Maximum Error is: 0.7924600834252117\n",
      "The Mean Absolute Error is: 0.12835519587990593\n"
     ]
    }
   ],
   "source": [
    "bag_svr1 = BaggingRegressor(SVR(epsilon=0.01, gamma=0.03, max_iter=99999), random_state=13)\n",
    "truth, preds = kfold(bag_svr1, n_splits=11)\n",
    "stats = get_stats(truth, preds)\n",
    "print_stats(stats)\n",
    "\n",
    "preliminary_results(\"Bagging\", stats, params=\"estimator=SVR(epsilon=0.01, gamma=0.03)\")"
   ]
  },
  {
   "cell_type": "markdown",
   "metadata": {},
   "source": [
    "Adaptive Boosting"
   ]
  },
  {
   "cell_type": "code",
   "execution_count": 268,
   "metadata": {},
   "outputs": [
    {
     "name": "stdout",
     "output_type": "stream",
     "text": [
      "These are the statistics:\n",
      "The RVE is: 0.6429865364388583\n",
      "The rmse is: 0.1652984264821481\n",
      "The Correlation Score is: 0.8019 (p-value=0.000000e+00)\n",
      "\n",
      "The Maximum Error is: 0.924742501\n",
      "The Mean Absolute Error is: 0.11855571833425387\n"
     ]
    }
   ],
   "source": [
    "abr = AdaBoostRegressor(estimator=DecisionTreeRegressor(max_depth=40), random_state=13)\n",
    "truth, preds = kfold(abr, n_splits=11, scaler=None)\n",
    "stats = get_stats(truth, preds)\n",
    "print_stats(stats)\n",
    "\n",
    "preliminary_results(\"Adaptive Boosting\", stats, params=\"estimator=DecisionTreeRegressor(max_depth=40)\")"
   ]
  },
  {
   "cell_type": "code",
   "execution_count": 26,
   "metadata": {},
   "outputs": [
    {
     "name": "stdout",
     "output_type": "stream",
     "text": [
      "These are the statistics:\n",
      "The RVE is: 0.6467820349435850\n",
      "The rmse is: 0.1645789789996832\n",
      "The Correlation Score is: 0.8028 (p-value=0.000000e+00)\n",
      "The Maximum Error is: 0.916433477\n",
      "The Mean Absolute Error is: 0.115395494536676\n"
     ]
    }
   ],
   "source": [
    "abr_svr_tune = AdaBoostRegressor(estimator=SVR(C=0.75, epsilon=0.01, max_iter=99999), n_estimators=30, random_state=13)\n",
    "truth, preds = kfold(abr_svr_tune, n_splits=11)\n",
    "stats = get_stats(truth, preds)\n",
    "print_stats(stats)\n",
    "\n",
    "preliminary_results(\"Adaptive Boosting\", stats, params=\"estimator=SVR(C=0.75, epsilon=0.01), n_estimators=30\")"
   ]
  },
  {
   "cell_type": "code",
   "execution_count": 269,
   "metadata": {},
   "outputs": [
    {
     "name": "stdout",
     "output_type": "stream",
     "text": [
      "These are the statistics:\n",
      "The RVE is: 0.5679258988326001\n",
      "The rmse is: 0.1819767847811521\n",
      "The Correlation Score is: 0.7688 (p-value=0.000000e+00)\n",
      "\n",
      "The Maximum Error is: 0.9999995893234466\n",
      "The Mean Absolute Error is: 0.12303994551047544\n"
     ]
    }
   ],
   "source": [
    "abr_knn15d = AdaBoostRegressor(estimator=KNeighborsRegressor(n_neighbors=15, weights=lambda x: np.exp(-(x**2))/5), random_state=13)\n",
    "truth, preds = kfold(abr_knn15d, n_splits=11)\n",
    "stats = get_stats(truth, preds)\n",
    "print_stats(stats)\n",
    "\n",
    "preliminary_results(\"Adaptive Boosting\", stats, params=\"estimator=KNeighborsRegressor(n_neighbors=15, weights=gaussian(kernel_weight=5))\")"
   ]
  },
  {
   "cell_type": "markdown",
   "metadata": {},
   "source": [
    "Gradient Boosting"
   ]
  },
  {
   "cell_type": "code",
   "execution_count": 279,
   "metadata": {},
   "outputs": [
    {
     "name": "stdout",
     "output_type": "stream",
     "text": [
      "These are the statistics:\n",
      "The RVE is: 0.479089103472053\n",
      "The rmse is: 0.19967889950125414\n",
      "The Correlation Score is: 0.7182 (p-value=0.000000e+00)\n",
      "\n",
      "The Maximum Error is: 0.9999896854508441\n",
      "The Mean Absolute Error is: 0.14093074204976389\n"
     ]
    }
   ],
   "source": [
    "gbr = GradientBoostingRegressor(max_depth=40, random_state=13)\n",
    "truth, preds = kfold(gbr, n_splits=11, scaler=None)\n",
    "stats = get_stats(truth, preds)\n",
    "print_stats(stats)\n",
    "\n",
    "preliminary_results(\"Gradient Boosting\", stats, params=\"max_depth=40\")"
   ]
  },
  {
   "cell_type": "markdown",
   "metadata": {},
   "source": [
    "Extreme Gradient Boosting"
   ]
  },
  {
   "cell_type": "code",
   "execution_count": 271,
   "metadata": {},
   "outputs": [
    {
     "name": "stdout",
     "output_type": "stream",
     "text": [
      "These are the statistics:\n",
      "The RVE is: 0.6456308394995283\n",
      "The rmse is: 0.1646809355624371\n",
      "The Correlation Score is: 0.8035 (p-value=0.000000e+00)\n",
      "\n",
      "The Maximum Error is: 0.8174601197242737\n",
      "The Mean Absolute Error is: 0.12283574714284236\n"
     ]
    }
   ],
   "source": [
    "xgbr = XGBRegressor()\n",
    "truth, preds = kfold(xgbr, n_splits=11, scaler=None)\n",
    "stats = get_stats(truth, preds)\n",
    "print_stats(stats)\n",
    "\n",
    "preliminary_results(\"Extreme Gradient Boosting\", stats)"
   ]
  },
  {
   "cell_type": "code",
   "execution_count": 278,
   "metadata": {},
   "outputs": [
    {
     "name": "stdout",
     "output_type": "stream",
     "text": [
      "These are the statistics:\n",
      "The RVE is: 0.6683008636826637\n",
      "The rmse is: 0.15935580466341234\n",
      "The Correlation Score is: 0.8175 (p-value=0.000000e+00)\n",
      "\n",
      "The Maximum Error is: 0.9157461002469063\n",
      "The Mean Absolute Error is: 0.11602286866840246\n"
     ]
    }
   ],
   "source": [
    "xgbr_tune = XGBRegressor(learning_rate=0.1, max_depth=10, n_estimators=300)\n",
    "truth, preds = kfold(xgbr_tune, n_splits=11, scaler=None)\n",
    "stats = get_stats(truth, preds)\n",
    "print_stats(stats)\n",
    "\n",
    "preliminary_results(\"Extreme Gradient Boosting\", stats, params=\"learning_rate=0.1, max_depth=10, n_estimators=300\")"
   ]
  },
  {
   "cell_type": "markdown",
   "metadata": {},
   "source": [
    "Multi-layer Perceptrons"
   ]
  },
  {
   "cell_type": "code",
   "execution_count": 273,
   "metadata": {},
   "outputs": [
    {
     "name": "stdout",
     "output_type": "stream",
     "text": [
      "These are the statistics:\n",
      "The RVE is: 0.5917369924542955\n",
      "The rmse is: 0.17681915014834185\n",
      "The Correlation Score is: 0.7772 (p-value=0.000000e+00)\n",
      "\n",
      "The Maximum Error is: 0.941716963252085\n",
      "The Mean Absolute Error is: 0.1325440444673939\n"
     ]
    }
   ],
   "source": [
    "mlpr = MLPRegressor(max_iter=10000, random_state=13)\n",
    "truth, preds = kfold(mlpr, n_splits=11)\n",
    "stats = get_stats(truth, preds)\n",
    "print_stats(stats)\n",
    "\n",
    "preliminary_results(\"Multi-layer Perceptron\", stats)"
   ]
  },
  {
   "cell_type": "code",
   "execution_count": 274,
   "metadata": {},
   "outputs": [
    {
     "name": "stdout",
     "output_type": "stream",
     "text": [
      "These are the statistics:\n",
      "The RVE is: 0.6467361542367001\n",
      "The rmse is: 0.1644229411169825\n",
      "The Correlation Score is: 0.8043 (p-value=0.000000e+00)\n",
      "\n",
      "The Maximum Error is: 0.9106209069517659\n",
      "The Mean Absolute Error is: 0.1241165908510677\n"
     ]
    }
   ],
   "source": [
    "mlpr1 = MLPRegressor(alpha=0.5, hidden_layer_sizes=[50], max_iter=10000, random_state=13)\n",
    "truth, preds = kfold(mlpr1, n_splits=11)\n",
    "stats = get_stats(truth, preds)\n",
    "print_stats(stats)\n",
    "\n",
    "preliminary_results(\"Multi-layer Perceptron\", stats, params=\"alpha=0.5, hidden_layer_sizes=[50]\")"
   ]
  },
  {
   "cell_type": "markdown",
   "metadata": {},
   "source": [
    "Preliminary results table"
   ]
  },
  {
   "cell_type": "code",
   "execution_count": 42,
   "metadata": {},
   "outputs": [
    {
     "data": {
      "text/html": [
       "<div>\n",
       "<style scoped>\n",
       "    .dataframe tbody tr th:only-of-type {\n",
       "        vertical-align: middle;\n",
       "    }\n",
       "\n",
       "    .dataframe tbody tr th {\n",
       "        vertical-align: top;\n",
       "    }\n",
       "\n",
       "    .dataframe thead th {\n",
       "        text-align: right;\n",
       "    }\n",
       "</style>\n",
       "<table border=\"1\" class=\"dataframe\">\n",
       "  <thead>\n",
       "    <tr style=\"text-align: right;\">\n",
       "      <th></th>\n",
       "      <th>Model</th>\n",
       "      <th>Hyperparameters</th>\n",
       "      <th>RVE</th>\n",
       "      <th>rmse</th>\n",
       "      <th>Pearson's correlation</th>\n",
       "      <th>Maximum error</th>\n",
       "      <th>Mean absolute error</th>\n",
       "    </tr>\n",
       "  </thead>\n",
       "  <tbody>\n",
       "    <tr>\n",
       "      <th>8</th>\n",
       "      <td>Support Vector Machine</td>\n",
       "      <td>epsilon=0.01, gamma=0.01</td>\n",
       "      <td>0.681257</td>\n",
       "      <td>0.156191</td>\n",
       "      <td>0.8256</td>\n",
       "      <td>0.868626</td>\n",
       "      <td>0.113288</td>\n",
       "    </tr>\n",
       "    <tr>\n",
       "      <th>20</th>\n",
       "      <td>Extreme Gradient Boosting</td>\n",
       "      <td>learning_rate=0.1, max_depth=10, n_estimators=300</td>\n",
       "      <td>0.668301</td>\n",
       "      <td>0.159356</td>\n",
       "      <td>0.8175</td>\n",
       "      <td>0.915746</td>\n",
       "      <td>0.116023</td>\n",
       "    </tr>\n",
       "    <tr>\n",
       "      <th>7</th>\n",
       "      <td>Support Vector Machine</td>\n",
       "      <td>default</td>\n",
       "      <td>0.662464</td>\n",
       "      <td>0.160791</td>\n",
       "      <td>0.8172</td>\n",
       "      <td>0.830272</td>\n",
       "      <td>0.123556</td>\n",
       "    </tr>\n",
       "    <tr>\n",
       "      <th>10</th>\n",
       "      <td>Random Forest</td>\n",
       "      <td>max_depth=40</td>\n",
       "      <td>0.649119</td>\n",
       "      <td>0.163893</td>\n",
       "      <td>0.8078</td>\n",
       "      <td>0.833755</td>\n",
       "      <td>0.122133</td>\n",
       "    </tr>\n",
       "    <tr>\n",
       "      <th>9</th>\n",
       "      <td>Random Forest</td>\n",
       "      <td>default</td>\n",
       "      <td>0.649030</td>\n",
       "      <td>0.163918</td>\n",
       "      <td>0.8076</td>\n",
       "      <td>0.840664</td>\n",
       "      <td>0.122062</td>\n",
       "    </tr>\n",
       "    <tr>\n",
       "      <th>22</th>\n",
       "      <td>Multi-layer Perceptron</td>\n",
       "      <td>alpha=0.5, hidden_layer_sizes=[50]</td>\n",
       "      <td>0.646736</td>\n",
       "      <td>0.164423</td>\n",
       "      <td>0.8043</td>\n",
       "      <td>0.910621</td>\n",
       "      <td>0.124117</td>\n",
       "    </tr>\n",
       "    <tr>\n",
       "      <th>16</th>\n",
       "      <td>Adaptive Boosting</td>\n",
       "      <td>estimator=SVR(C=0.75, epsilon=0.01), n_estimators=30</td>\n",
       "      <td>0.646782</td>\n",
       "      <td>0.164579</td>\n",
       "      <td>0.8028</td>\n",
       "      <td>0.916433</td>\n",
       "      <td>0.115395</td>\n",
       "    </tr>\n",
       "    <tr>\n",
       "      <th>19</th>\n",
       "      <td>Extreme Gradient Boosting</td>\n",
       "      <td>default</td>\n",
       "      <td>0.645631</td>\n",
       "      <td>0.164681</td>\n",
       "      <td>0.8035</td>\n",
       "      <td>0.817460</td>\n",
       "      <td>0.122836</td>\n",
       "    </tr>\n",
       "    <tr>\n",
       "      <th>15</th>\n",
       "      <td>Adaptive Boosting</td>\n",
       "      <td>estimator=DecisionTreeRegressor(max_depth=40)</td>\n",
       "      <td>0.642987</td>\n",
       "      <td>0.165298</td>\n",
       "      <td>0.8019</td>\n",
       "      <td>0.924743</td>\n",
       "      <td>0.118556</td>\n",
       "    </tr>\n",
       "    <tr>\n",
       "      <th>13</th>\n",
       "      <td>Bagging</td>\n",
       "      <td>estimator=KNeighborsRegressor(n_neighbors=15, weights=gaussian(kernel_weight=5))</td>\n",
       "      <td>0.639908</td>\n",
       "      <td>0.166145</td>\n",
       "      <td>0.8028</td>\n",
       "      <td>0.927894</td>\n",
       "      <td>0.117568</td>\n",
       "    </tr>\n",
       "    <tr>\n",
       "      <th>14</th>\n",
       "      <td>Bagging</td>\n",
       "      <td>estimator=SVR(epsilon=0.01, gamma=0.03)</td>\n",
       "      <td>0.628984</td>\n",
       "      <td>0.168513</td>\n",
       "      <td>0.8035</td>\n",
       "      <td>0.792460</td>\n",
       "      <td>0.128355</td>\n",
       "    </tr>\n",
       "    <tr>\n",
       "      <th>2</th>\n",
       "      <td>K-Nearest Neighbours</td>\n",
       "      <td>default</td>\n",
       "      <td>0.627568</td>\n",
       "      <td>0.168942</td>\n",
       "      <td>0.7934</td>\n",
       "      <td>0.902543</td>\n",
       "      <td>0.122237</td>\n",
       "    </tr>\n",
       "    <tr>\n",
       "      <th>12</th>\n",
       "      <td>Bagging</td>\n",
       "      <td>estimator=DecisionTreeRegressor(max_depth=40)</td>\n",
       "      <td>0.610791</td>\n",
       "      <td>0.172622</td>\n",
       "      <td>0.7816</td>\n",
       "      <td>0.935790</td>\n",
       "      <td>0.128004</td>\n",
       "    </tr>\n",
       "    <tr>\n",
       "      <th>11</th>\n",
       "      <td>Bagging</td>\n",
       "      <td>default</td>\n",
       "      <td>0.609715</td>\n",
       "      <td>0.172859</td>\n",
       "      <td>0.7809</td>\n",
       "      <td>0.910904</td>\n",
       "      <td>0.127773</td>\n",
       "    </tr>\n",
       "    <tr>\n",
       "      <th>3</th>\n",
       "      <td>K-Nearest Neighbours</td>\n",
       "      <td>n_neighbors=15, weights=gaussian(kernel_weight=5)</td>\n",
       "      <td>0.606545</td>\n",
       "      <td>0.173695</td>\n",
       "      <td>0.7886</td>\n",
       "      <td>0.965584</td>\n",
       "      <td>0.119620</td>\n",
       "    </tr>\n",
       "    <tr>\n",
       "      <th>21</th>\n",
       "      <td>Multi-layer Perceptron</td>\n",
       "      <td>default</td>\n",
       "      <td>0.591737</td>\n",
       "      <td>0.176819</td>\n",
       "      <td>0.7772</td>\n",
       "      <td>0.941717</td>\n",
       "      <td>0.132544</td>\n",
       "    </tr>\n",
       "    <tr>\n",
       "      <th>6</th>\n",
       "      <td>Lasso</td>\n",
       "      <td>alpha=0.0001</td>\n",
       "      <td>0.577089</td>\n",
       "      <td>0.179905</td>\n",
       "      <td>0.7617</td>\n",
       "      <td>0.933239</td>\n",
       "      <td>0.137551</td>\n",
       "    </tr>\n",
       "    <tr>\n",
       "      <th>17</th>\n",
       "      <td>Adaptive Boosting</td>\n",
       "      <td>estimator=KNeighborsRegressor(n_neighbors=15, weights=gaussian(kernel_weight=5))</td>\n",
       "      <td>0.567926</td>\n",
       "      <td>0.181977</td>\n",
       "      <td>0.7688</td>\n",
       "      <td>1.000000</td>\n",
       "      <td>0.123040</td>\n",
       "    </tr>\n",
       "    <tr>\n",
       "      <th>5</th>\n",
       "      <td>Ridge</td>\n",
       "      <td>default</td>\n",
       "      <td>0.488357</td>\n",
       "      <td>0.197885</td>\n",
       "      <td>0.7244</td>\n",
       "      <td>1.065893</td>\n",
       "      <td>0.150548</td>\n",
       "    </tr>\n",
       "    <tr>\n",
       "      <th>18</th>\n",
       "      <td>Gradient Boosting</td>\n",
       "      <td>max_depth=40</td>\n",
       "      <td>0.479089</td>\n",
       "      <td>0.199679</td>\n",
       "      <td>0.7182</td>\n",
       "      <td>0.999990</td>\n",
       "      <td>0.140931</td>\n",
       "    </tr>\n",
       "    <tr>\n",
       "      <th>4</th>\n",
       "      <td>Linear Regression</td>\n",
       "      <td>default</td>\n",
       "      <td>0.470346</td>\n",
       "      <td>0.201340</td>\n",
       "      <td>0.7190</td>\n",
       "      <td>1.097582</td>\n",
       "      <td>0.152872</td>\n",
       "    </tr>\n",
       "    <tr>\n",
       "      <th>0</th>\n",
       "      <td>Decision Tree</td>\n",
       "      <td>default</td>\n",
       "      <td>0.320303</td>\n",
       "      <td>0.228074</td>\n",
       "      <td>0.6599</td>\n",
       "      <td>1.000000</td>\n",
       "      <td>0.157446</td>\n",
       "    </tr>\n",
       "    <tr>\n",
       "      <th>1</th>\n",
       "      <td>Decision Tree</td>\n",
       "      <td>max_depth=40</td>\n",
       "      <td>0.309618</td>\n",
       "      <td>0.229857</td>\n",
       "      <td>0.6535</td>\n",
       "      <td>1.000000</td>\n",
       "      <td>0.158737</td>\n",
       "    </tr>\n",
       "  </tbody>\n",
       "</table>\n",
       "</div>"
      ],
      "text/plain": [
       "                        Model  \\\n",
       "8   Support Vector Machine      \n",
       "20  Extreme Gradient Boosting   \n",
       "7   Support Vector Machine      \n",
       "10  Random Forest               \n",
       "9   Random Forest               \n",
       "22  Multi-layer Perceptron      \n",
       "16  Adaptive Boosting           \n",
       "19  Extreme Gradient Boosting   \n",
       "15  Adaptive Boosting           \n",
       "13  Bagging                     \n",
       "14  Bagging                     \n",
       "2   K-Nearest Neighbours        \n",
       "12  Bagging                     \n",
       "11  Bagging                     \n",
       "3   K-Nearest Neighbours        \n",
       "21  Multi-layer Perceptron      \n",
       "6   Lasso                       \n",
       "17  Adaptive Boosting           \n",
       "5   Ridge                       \n",
       "18  Gradient Boosting           \n",
       "4   Linear Regression           \n",
       "0   Decision Tree               \n",
       "1   Decision Tree               \n",
       "\n",
       "                                                                     Hyperparameters  \\\n",
       "8   epsilon=0.01, gamma=0.01                                                           \n",
       "20  learning_rate=0.1, max_depth=10, n_estimators=300                                  \n",
       "7   default                                                                            \n",
       "10  max_depth=40                                                                       \n",
       "9   default                                                                            \n",
       "22  alpha=0.5, hidden_layer_sizes=[50]                                                 \n",
       "16  estimator=SVR(C=0.75, epsilon=0.01), n_estimators=30                               \n",
       "19  default                                                                            \n",
       "15  estimator=DecisionTreeRegressor(max_depth=40)                                      \n",
       "13  estimator=KNeighborsRegressor(n_neighbors=15, weights=gaussian(kernel_weight=5))   \n",
       "14  estimator=SVR(epsilon=0.01, gamma=0.03)                                            \n",
       "2   default                                                                            \n",
       "12  estimator=DecisionTreeRegressor(max_depth=40)                                      \n",
       "11  default                                                                            \n",
       "3   n_neighbors=15, weights=gaussian(kernel_weight=5)                                  \n",
       "21  default                                                                            \n",
       "6   alpha=0.0001                                                                       \n",
       "17  estimator=KNeighborsRegressor(n_neighbors=15, weights=gaussian(kernel_weight=5))   \n",
       "5   default                                                                            \n",
       "18  max_depth=40                                                                       \n",
       "4   default                                                                            \n",
       "0   default                                                                            \n",
       "1   max_depth=40                                                                       \n",
       "\n",
       "         RVE      rmse  Pearson's correlation  Maximum error  \\\n",
       "8   0.681257  0.156191  0.8256                 0.868626        \n",
       "20  0.668301  0.159356  0.8175                 0.915746        \n",
       "7   0.662464  0.160791  0.8172                 0.830272        \n",
       "10  0.649119  0.163893  0.8078                 0.833755        \n",
       "9   0.649030  0.163918  0.8076                 0.840664        \n",
       "22  0.646736  0.164423  0.8043                 0.910621        \n",
       "16  0.646782  0.164579  0.8028                 0.916433        \n",
       "19  0.645631  0.164681  0.8035                 0.817460        \n",
       "15  0.642987  0.165298  0.8019                 0.924743        \n",
       "13  0.639908  0.166145  0.8028                 0.927894        \n",
       "14  0.628984  0.168513  0.8035                 0.792460        \n",
       "2   0.627568  0.168942  0.7934                 0.902543        \n",
       "12  0.610791  0.172622  0.7816                 0.935790        \n",
       "11  0.609715  0.172859  0.7809                 0.910904        \n",
       "3   0.606545  0.173695  0.7886                 0.965584        \n",
       "21  0.591737  0.176819  0.7772                 0.941717        \n",
       "6   0.577089  0.179905  0.7617                 0.933239        \n",
       "17  0.567926  0.181977  0.7688                 1.000000        \n",
       "5   0.488357  0.197885  0.7244                 1.065893        \n",
       "18  0.479089  0.199679  0.7182                 0.999990        \n",
       "4   0.470346  0.201340  0.7190                 1.097582        \n",
       "0   0.320303  0.228074  0.6599                 1.000000        \n",
       "1   0.309618  0.229857  0.6535                 1.000000        \n",
       "\n",
       "    Mean absolute error  \n",
       "8   0.113288             \n",
       "20  0.116023             \n",
       "7   0.123556             \n",
       "10  0.122133             \n",
       "9   0.122062             \n",
       "22  0.124117             \n",
       "16  0.115395             \n",
       "19  0.122836             \n",
       "15  0.118556             \n",
       "13  0.117568             \n",
       "14  0.128355             \n",
       "2   0.122237             \n",
       "12  0.128004             \n",
       "11  0.127773             \n",
       "3   0.119620             \n",
       "21  0.132544             \n",
       "6   0.137551             \n",
       "17  0.123040             \n",
       "5   0.150548             \n",
       "18  0.140931             \n",
       "4   0.152872             \n",
       "0   0.157446             \n",
       "1   0.158737             "
      ]
     },
     "execution_count": 42,
     "metadata": {},
     "output_type": "execute_result"
    }
   ],
   "source": [
    "# Transforming the results into a dataframe and sorting by the rmse\n",
    "pd.set_option('display.max_colwidth', 0)\n",
    "preliminary_testing_df = pd.DataFrame(preliminary_testing)\n",
    "preliminary_testing_df.sort_values(by=[\"rmse\"], inplace=True)\n",
    "preliminary_testing_df"
   ]
  },
  {
   "cell_type": "markdown",
   "metadata": {},
   "source": [
    "#### First tuning of the best models"
   ]
  },
  {
   "cell_type": "markdown",
   "metadata": {},
   "source": [
    "Support Vector Machines"
   ]
  },
  {
   "cell_type": "code",
   "execution_count": null,
   "metadata": {},
   "outputs": [],
   "source": [
    "param_grid = {\n",
    "    \"C\": [0.001, 0.25, 0.5, 0.75, 1, 1.25, 1.5, 2, 50],\n",
    "    \"epsilon\": [0.001, 0.01, 0.025, 0.05, 0.075, 0.1, 0.5],\n",
    "    \"gamma\": [0.001, 0.01, 0.02, 0.03, 0.04, 0.05, 0.1, 1]\n",
    "}\n",
    "\n",
    "kf = KFold(n_splits=11, shuffle=True, random_state=13)\n",
    "gs_svr = GridSearchCV(estimator=SVR(max_iter=99999), param_grid=param_grid, cv=kf, scoring=\"neg_root_mean_squared_error\", n_jobs=-1)\n",
    "gs_svr = gs_svr.fit(X_TRAIN, y_TRAIN)\n",
    "\n",
    "best_params_svr = gs_svr.best_params_\n",
    "best_mean_test_score_svr = gs_svr.best_score_"
   ]
  },
  {
   "cell_type": "code",
   "execution_count": 57,
   "metadata": {},
   "outputs": [
    {
     "name": "stdout",
     "output_type": "stream",
     "text": [
      "{'C': 1, 'epsilon': 0.025, 'gamma': 0.01}\n",
      "0.156195\n"
     ]
    }
   ],
   "source": [
    "print(best_params_svr)\n",
    "print(best_mean_test_score_svr)"
   ]
  },
  {
   "cell_type": "code",
   "execution_count": null,
   "metadata": {},
   "outputs": [],
   "source": [
    "res = pd.DataFrame(gs_svr.cv_results_)\n",
    "res = res.sort_values(by=[\"rank_test_score\"])\n",
    "res[[\"params\", \"rank_test_score\", \"mean_test_score\", \"std_test_score\"]]\n",
    "# Output for all the grid searches for this work are not shown due to time constraints to repeat the algorithm in this notebook, \n",
    "# as they were performed in google colab notebooks or in preliminary python files..."
   ]
  },
  {
   "cell_type": "markdown",
   "metadata": {},
   "source": [
    "K-Nearest Neighbors"
   ]
  },
  {
   "cell_type": "code",
   "execution_count": 8,
   "metadata": {},
   "outputs": [],
   "source": [
    "# Defining several lambda functions to work as gaussian weights for KNN\n",
    "x1 = lambda x: np.exp(-(x**2)/1)\n",
    "x2 = lambda x: np.exp(-(x**2)/2)\n",
    "x3 = lambda x: np.exp(-(x**2)/3)\n",
    "x4 = lambda x: np.exp(-(x**2)/4)\n",
    "x5 = lambda x: np.exp(-(x**2)/5)\n",
    "x6 = lambda x: np.exp(-(x**2)/6)\n",
    "x7 = lambda x: np.exp(-(x**2)/7)\n",
    "x8 = lambda x: np.exp(-(x**2)/8)\n",
    "x9 = lambda x: np.exp(-(x**2)/9)\n",
    "x10 = lambda x: np.exp(-(x**2)/10)\n",
    "x11 = lambda x: np.exp(-(x**2)/11)\n",
    "x12 = lambda x: np.exp(-(x**2)/12)\n",
    "x13 = lambda x: np.exp(-(x**2)/13)\n",
    "x14 = lambda x: np.exp(-(x**2)/14)\n",
    "x15 = lambda x: np.exp(-(x**2)/15)\n",
    "x16 = lambda x: np.exp(-(x**2)/16)\n",
    "x17 = lambda x: np.exp(-(x**2)/17)\n",
    "x18 = lambda x: np.exp(-(x**2)/18)\n",
    "x19 = lambda x: np.exp(-(x**2)/19)\n",
    "x20 = lambda x: np.exp(-(x**2)/20)"
   ]
  },
  {
   "cell_type": "code",
   "execution_count": null,
   "metadata": {},
   "outputs": [],
   "source": [
    "param_grid = {\n",
    "    \"n_neighbors\": [1, 3, 5, 10, 15, 20],\n",
    "    \"weights\": [\"uniform\", \"distance\", x1, x2, x3, x4, x5, x6, x7, x8, x9, x10, x11, x12, x13, x14, x15, x16, x17, x18, x19, x20]\n",
    "}\n",
    "\n",
    "kf = KFold(n_splits=11, shuffle=True, random_state=13)\n",
    "\n",
    "gs_knn = GridSearchCV(estimator=KNeighborsRegressor(), param_grid=param_grid, cv=kf, scoring=\"neg_root_mean_squared_error\", n_jobs=-1)\n",
    "gs_knn = gs_knn.fit(X_TRAIN, y_TRAIN)\n",
    "\n",
    "best_params_knn = gs_knn.best_params_\n",
    "best_mean_test_score_knn = gs_knn.best_score_"
   ]
  },
  {
   "cell_type": "code",
   "execution_count": 33,
   "metadata": {},
   "outputs": [
    {
     "name": "stdout",
     "output_type": "stream",
     "text": [
      "{'n_neighbors': 14, 'weights': <function <lambda> at 0x00000206E5B04860>}\n",
      "0.161131\n"
     ]
    }
   ],
   "source": [
    "print(best_params_knn)\n",
    "print(best_mean_test_score_knn)"
   ]
  },
  {
   "cell_type": "code",
   "execution_count": 11,
   "metadata": {},
   "outputs": [
    {
     "name": "stdout",
     "output_type": "stream",
     "text": [
      "kernel weight = 16\n"
     ]
    }
   ],
   "source": [
    "for i, x in enumerate([x1, x2, x3, x4, x5, x6, x7, x8, x9, x10, x11, x12, x13, x14, x15, x16, x17, x18, x19, x20]):\n",
    "  if str(x) == \"<function <lambda> at 0x00000206E5B04860>\":\n",
    "    print(\"kernel weight =\", i + 1)"
   ]
  },
  {
   "cell_type": "markdown",
   "metadata": {},
   "source": [
    "Random Forests"
   ]
  },
  {
   "cell_type": "code",
   "execution_count": null,
   "metadata": {},
   "outputs": [],
   "source": [
    "param = {\n",
    "    \"n_estimators\": [25, 50, 100, 150, 200],\n",
    "    \"max_depth\": [3, 5, 10, 20, 30, 40, 50]\n",
    "}\n",
    "\n",
    "kf = KFold(n_splits=11, shuffle=True, random_state=13)\n",
    "\n",
    "gs_rfr = GridSearchCV(RandomForestRegressor(random_state=13), param_grid=param, cv=kf, scoring=\"neg_root_mean_squared_error\", n_jobs=-1)\n",
    "gs_rfr = gs_rfr.fit(X_TRAIN, y_TRAIN)\n",
    "\n",
    "best_params_rfr = gs_rfr.best_params_\n",
    "best_mean_test_score_rfr = gs_rfr.best_score_"
   ]
  },
  {
   "cell_type": "code",
   "execution_count": 54,
   "metadata": {},
   "outputs": [
    {
     "name": "stdout",
     "output_type": "stream",
     "text": [
      "{'max_depth': 40, 'n_estimators': 200}\n",
      "0.163844\n"
     ]
    }
   ],
   "source": [
    "print(best_params_rfr)\n",
    "print(best_mean_test_score_rfr)"
   ]
  },
  {
   "cell_type": "markdown",
   "metadata": {},
   "source": [
    "Extreme Gradient Boosting"
   ]
  },
  {
   "cell_type": "code",
   "execution_count": null,
   "metadata": {},
   "outputs": [],
   "source": [
    "param_grid = {\n",
    "    \"learning_rate\": [0.01, 0.05, 0.1, 0.15, 0.2, 0.25, 0.3],\n",
    "    \"n_estimators\": [10, 20, 50, 100, 200, 250, 300],\n",
    "    \"max_depth\": [1, 3, 5, 10, 15, 20],\n",
    "    \"gamma\": [0, 0.01, 0.03, 0.05, 0.1]\n",
    "}\n",
    "\n",
    "kf = KFold(n_splits=11, shuffle=True, random_state=13)\n",
    "\n",
    "gs_xgbr = GridSearchCV(estimator=XGBRegressor(), param_grid=param_grid, cv=kf, scoring='neg_root_mean_squared_error', n_jobs=-1)\n",
    "gs_xgbr = gs_xgbr.fit(X_TRAIN, y_TRAIN)\n",
    "\n",
    "best_params_xgbr = gs_xgbr.best_params_\n",
    "best_mean_test_score_xgbr = gs_xgbr.best_score_"
   ]
  },
  {
   "cell_type": "code",
   "execution_count": 55,
   "metadata": {},
   "outputs": [
    {
     "name": "stdout",
     "output_type": "stream",
     "text": [
      "{'gamma': 0, 'learning_rate': 0.1, 'max_depth': 10, 'n_estimators': 300}\n",
      "0.159543\n"
     ]
    }
   ],
   "source": [
    "print(best_params_xgbr)\n",
    "print(best_mean_test_score_xgbr)"
   ]
  },
  {
   "cell_type": "markdown",
   "metadata": {},
   "source": [
    "Multi-layer Perceptron"
   ]
  },
  {
   "cell_type": "code",
   "execution_count": null,
   "metadata": {},
   "outputs": [],
   "source": [
    "param_grid = {\n",
    "    \"solver\": [\"adam\", \"lbfgs\", \"sgd\"],\n",
    "    \"activation\": [\"relu\", \"tanh\", \"logistic\", \"identity\"],\n",
    "    \"hidden_layer_sizes\": [[20], [50], [15, 10], [10, 20], [15, 30], [20, 30], [20, 20, 20], [10, 10, 10], [15, 15, 15], [20, 10, 10]],\n",
    "    \"alpha\": [0.05, 0.1, 0.25, 0.5, 0.75, 1],\n",
    "    \"tol\": [0.001, 0.005, 0.0001, 0.0005, 0.01]\n",
    "}\n",
    "\n",
    "kf = KFold(n_splits=11, shuffle=True, random_state=13)\n",
    "\n",
    "gs_mlpr = GridSearchCV(estimator=MLPRegressor(max_iter=10000, random_state=13), param_grid=param_grid, cv=kf, scoring='neg_root_mean_squared_error', n_jobs=-1)\n",
    "gs_mlpr = gs_mlpr.fit(X_TRAIN, y_TRAIN)\n",
    "\n",
    "best_params_mlpr = gs_mlpr.best_params_\n",
    "best_mean_test_score_mlpr = gs_mlpr.best_score_"
   ]
  },
  {
   "cell_type": "code",
   "execution_count": 56,
   "metadata": {},
   "outputs": [
    {
     "name": "stdout",
     "output_type": "stream",
     "text": [
      "{'activation': 'relu', 'alpha': 0.5, 'hidden_layer_sizes': [15, 10], 'solver': 'adam', 'tol': 0.0001}\n",
      "0.164422\n"
     ]
    }
   ],
   "source": [
    "print(best_params_mlpr)\n",
    "print(best_mean_test_score_mlpr)"
   ]
  },
  {
   "cell_type": "markdown",
   "metadata": {},
   "source": [
    "#### Feature Selection"
   ]
  },
  {
   "cell_type": "markdown",
   "metadata": {},
   "source": [
    "##### Tuning random forests for feature selection"
   ]
  },
  {
   "cell_type": "markdown",
   "metadata": {},
   "source": [
    "Hyperparameter tuning"
   ]
  },
  {
   "cell_type": "code",
   "execution_count": null,
   "metadata": {},
   "outputs": [],
   "source": [
    "param = {\n",
    "    \"n_estimators\": [10, 20, 30, 50, 75, 100, 150, 200],\n",
    "    \"max_depth\": [1, 3, 5, 10, 20, 30, 35, 40, 45, 50, 60],\n",
    "    \"min_samples_leaf\": [1, 3, 5, 10, 15, 20],\n",
    "    \"min_samples_split\": [2, 5, 10, 15, 20]\n",
    "}\n",
    "\n",
    "kf = KFold(n_splits=11, shuffle=True, random_state=13)\n",
    "\n",
    "gs_rfr = GridSearchCV(RandomForestRegressor(random_state=13), param_grid=param, cv=kf, scoring=\"neg_root_mean_squared_error\", n_jobs=-1)\n",
    "gs_rfr = gs_rfr.fit(X_TRAIN, y_TRAIN)\n",
    "\n",
    "best_params_rfr = gs_rfr.best_params_"
   ]
  },
  {
   "cell_type": "code",
   "execution_count": 37,
   "metadata": {},
   "outputs": [
    {
     "name": "stdout",
     "output_type": "stream",
     "text": [
      "{'max_depth': 45, 'min_samples_leaf': 1, 'min_samples_split': 2, 'n_estimators': 200}\n"
     ]
    }
   ],
   "source": [
    "print(best_params_rfr)"
   ]
  },
  {
   "cell_type": "markdown",
   "metadata": {},
   "source": [
    "Threshold tuning"
   ]
  },
  {
   "cell_type": "code",
   "execution_count": 223,
   "metadata": {},
   "outputs": [
    {
     "name": "stdout",
     "output_type": "stream",
     "text": [
      "Threshold: 0.0001 | Number of features selected: 1317\n",
      "Threshold: 0.00025 | Number of features selected: 621\n",
      "Threshold: 0.00035 | Number of features selected: 454\n",
      "Threshold: 0.0005 | Number of features selected: 311\n",
      "Threshold: 0.001 | Number of features selected: 138\n",
      "Threshold: 0.005 | Number of features selected: 30\n",
      "Threshold: 0.01 | Number of features selected: 12\n",
      "Threshold: mean | Number of features selected: 331\n",
      "Threshold: median | Number of features selected: 1066\n"
     ]
    }
   ],
   "source": [
    "# Different threshold values to test\n",
    "thresholds_to_test = [0.0001, 0.00025, 0.00035, 0.0005, 0.001, 0.005, 0.01, 'mean', 'median']\n",
    "\n",
    "results = {\n",
    "    \"threshold\": [],\n",
    "    \"svr_rmse\": [],\n",
    "    \"xgbr_rmse\": [],\n",
    "    \"knn_rmse\": []\n",
    "}\n",
    "\n",
    "rfr = RandomForestRegressor(max_depth=45, n_estimators=225, random_state=13)\n",
    "\n",
    "# For each threshold, transforms the data and fit the best models\n",
    "for threshold in thresholds_to_test:\n",
    "    sel = SelectFromModel(estimator=rfr, threshold=threshold)\n",
    "    sel.fit(X_TRAIN, y_TRAIN)\n",
    "    nX_TRAIN = sel.transform(X_TRAIN)\n",
    "    nX_TRAIN = pd.DataFrame(nX_TRAIN)\n",
    "\n",
    "    features_selected = np.arange(X_TRAIN.shape[1])[sel.get_support()]\n",
    "    print(f\"Threshold: {threshold} | Number of features selected: {features_selected.shape[0]}\")\n",
    "    \n",
    "    results[\"threshold\"].append(threshold)\n",
    "\n",
    "    xgbr_thr = XGBRegressor(learning_rate=0.01, device=\"cuda:0\", colsample_bytree=0.7, subsample=0.8, max_depth=7, n_estimators=3000, objective =\"reg:squarederror\")\n",
    "    truth, preds = kfold(xgbr_thr, n_splits=11, nX_TRAIN=nX_TRAIN, scaler=None)\n",
    "    results[\"xgbr_rmse\"].append(mean_squared_error(truth, preds, squared=False))\n",
    "\n",
    "    svr_thr = SVR(C=0.8, epsilon=0.025, gamma=0.02, max_iter=99999)\n",
    "    truth, preds = kfold(svr_thr, n_splits=11, nX_TRAIN=nX_TRAIN)\n",
    "    results[\"svr_rmse\"].append(mean_squared_error(truth, preds, squared=False))\n",
    "\n",
    "    knn_thr = KNeighborsRegressor(n_neighbors=14, weights=lambda x: np.exp(-(x**2)/7.5))\n",
    "    truth, preds = kfold(knn_thr, n_splits=11, nX_TRAIN=nX_TRAIN)\n",
    "    results[\"knn_rmse\"].append(mean_squared_error(truth, preds, squared=False))"
   ]
  },
  {
   "cell_type": "code",
   "execution_count": 224,
   "metadata": {},
   "outputs": [],
   "source": [
    "svr_test_df = pd.DataFrame(results).groupby([\"threshold\"])[\"svr_rmse\"].mean().reset_index()\n",
    "xgbr_test_df = pd.DataFrame(results).groupby([\"threshold\"])[\"xgbr_rmse\"].mean().reset_index()\n",
    "knn_test_df = pd.DataFrame(results).groupby([\"threshold\"])[\"knn_rmse\"].mean().reset_index()"
   ]
  },
  {
   "cell_type": "code",
   "execution_count": 232,
   "metadata": {},
   "outputs": [
    {
     "data": {
      "text/html": [
       "<div>\n",
       "<style scoped>\n",
       "    .dataframe tbody tr th:only-of-type {\n",
       "        vertical-align: middle;\n",
       "    }\n",
       "\n",
       "    .dataframe tbody tr th {\n",
       "        vertical-align: top;\n",
       "    }\n",
       "\n",
       "    .dataframe thead th {\n",
       "        text-align: right;\n",
       "    }\n",
       "</style>\n",
       "<table border=\"1\" class=\"dataframe\">\n",
       "  <thead>\n",
       "    <tr style=\"text-align: right;\">\n",
       "      <th></th>\n",
       "      <th>threshold</th>\n",
       "      <th>svr_rmse</th>\n",
       "    </tr>\n",
       "  </thead>\n",
       "  <tbody>\n",
       "    <tr>\n",
       "      <th>0</th>\n",
       "      <td>0.0001</td>\n",
       "      <td>0.157162</td>\n",
       "    </tr>\n",
       "    <tr>\n",
       "      <th>1</th>\n",
       "      <td>0.00025</td>\n",
       "      <td>0.154745</td>\n",
       "    </tr>\n",
       "    <tr>\n",
       "      <th>2</th>\n",
       "      <td>0.00035</td>\n",
       "      <td>0.155327</td>\n",
       "    </tr>\n",
       "    <tr>\n",
       "      <th>3</th>\n",
       "      <td>0.0005</td>\n",
       "      <td>0.156237</td>\n",
       "    </tr>\n",
       "    <tr>\n",
       "      <th>4</th>\n",
       "      <td>0.001</td>\n",
       "      <td>0.177430</td>\n",
       "    </tr>\n",
       "    <tr>\n",
       "      <th>5</th>\n",
       "      <td>0.005</td>\n",
       "      <td>0.234265</td>\n",
       "    </tr>\n",
       "    <tr>\n",
       "      <th>6</th>\n",
       "      <td>0.01</td>\n",
       "      <td>0.246022</td>\n",
       "    </tr>\n",
       "    <tr>\n",
       "      <th>7</th>\n",
       "      <td>mean</td>\n",
       "      <td>0.155743</td>\n",
       "    </tr>\n",
       "    <tr>\n",
       "      <th>8</th>\n",
       "      <td>median</td>\n",
       "      <td>0.155515</td>\n",
       "    </tr>\n",
       "  </tbody>\n",
       "</table>\n",
       "</div>"
      ],
      "text/plain": [
       "  threshold  svr_rmse\n",
       "0    0.0001  0.157162\n",
       "1   0.00025  0.154745\n",
       "2   0.00035  0.155327\n",
       "3    0.0005  0.156237\n",
       "4     0.001  0.177430\n",
       "5     0.005  0.234265\n",
       "6      0.01  0.246022\n",
       "7      mean  0.155743\n",
       "8    median  0.155515"
      ]
     },
     "execution_count": 232,
     "metadata": {},
     "output_type": "execute_result"
    }
   ],
   "source": [
    "svr_test_df"
   ]
  },
  {
   "cell_type": "code",
   "execution_count": 233,
   "metadata": {},
   "outputs": [
    {
     "data": {
      "text/html": [
       "<div>\n",
       "<style scoped>\n",
       "    .dataframe tbody tr th:only-of-type {\n",
       "        vertical-align: middle;\n",
       "    }\n",
       "\n",
       "    .dataframe tbody tr th {\n",
       "        vertical-align: top;\n",
       "    }\n",
       "\n",
       "    .dataframe thead th {\n",
       "        text-align: right;\n",
       "    }\n",
       "</style>\n",
       "<table border=\"1\" class=\"dataframe\">\n",
       "  <thead>\n",
       "    <tr style=\"text-align: right;\">\n",
       "      <th></th>\n",
       "      <th>threshold</th>\n",
       "      <th>xgbr_rmse</th>\n",
       "    </tr>\n",
       "  </thead>\n",
       "  <tbody>\n",
       "    <tr>\n",
       "      <th>0</th>\n",
       "      <td>0.0001</td>\n",
       "      <td>0.153835</td>\n",
       "    </tr>\n",
       "    <tr>\n",
       "      <th>1</th>\n",
       "      <td>0.00025</td>\n",
       "      <td>0.153441</td>\n",
       "    </tr>\n",
       "    <tr>\n",
       "      <th>2</th>\n",
       "      <td>0.00035</td>\n",
       "      <td>0.154187</td>\n",
       "    </tr>\n",
       "    <tr>\n",
       "      <th>3</th>\n",
       "      <td>0.0005</td>\n",
       "      <td>0.155861</td>\n",
       "    </tr>\n",
       "    <tr>\n",
       "      <th>4</th>\n",
       "      <td>0.001</td>\n",
       "      <td>0.163635</td>\n",
       "    </tr>\n",
       "    <tr>\n",
       "      <th>5</th>\n",
       "      <td>0.005</td>\n",
       "      <td>0.187625</td>\n",
       "    </tr>\n",
       "    <tr>\n",
       "      <th>6</th>\n",
       "      <td>0.01</td>\n",
       "      <td>0.197451</td>\n",
       "    </tr>\n",
       "    <tr>\n",
       "      <th>7</th>\n",
       "      <td>mean</td>\n",
       "      <td>0.154932</td>\n",
       "    </tr>\n",
       "    <tr>\n",
       "      <th>8</th>\n",
       "      <td>median</td>\n",
       "      <td>0.153390</td>\n",
       "    </tr>\n",
       "  </tbody>\n",
       "</table>\n",
       "</div>"
      ],
      "text/plain": [
       "  threshold  xgbr_rmse\n",
       "0    0.0001   0.153835\n",
       "1   0.00025   0.153441\n",
       "2   0.00035   0.154187\n",
       "3    0.0005   0.155861\n",
       "4     0.001   0.163635\n",
       "5     0.005   0.187625\n",
       "6      0.01   0.197451\n",
       "7      mean   0.154932\n",
       "8    median   0.153390"
      ]
     },
     "execution_count": 233,
     "metadata": {},
     "output_type": "execute_result"
    }
   ],
   "source": [
    "xgbr_test_df"
   ]
  },
  {
   "cell_type": "code",
   "execution_count": 236,
   "metadata": {},
   "outputs": [
    {
     "data": {
      "text/html": [
       "<div>\n",
       "<style scoped>\n",
       "    .dataframe tbody tr th:only-of-type {\n",
       "        vertical-align: middle;\n",
       "    }\n",
       "\n",
       "    .dataframe tbody tr th {\n",
       "        vertical-align: top;\n",
       "    }\n",
       "\n",
       "    .dataframe thead th {\n",
       "        text-align: right;\n",
       "    }\n",
       "</style>\n",
       "<table border=\"1\" class=\"dataframe\">\n",
       "  <thead>\n",
       "    <tr style=\"text-align: right;\">\n",
       "      <th></th>\n",
       "      <th>threshold</th>\n",
       "      <th>knn_rmse</th>\n",
       "    </tr>\n",
       "  </thead>\n",
       "  <tbody>\n",
       "    <tr>\n",
       "      <th>0</th>\n",
       "      <td>0.0001</td>\n",
       "      <td>0.169907</td>\n",
       "    </tr>\n",
       "    <tr>\n",
       "      <th>1</th>\n",
       "      <td>0.00025</td>\n",
       "      <td>0.161107</td>\n",
       "    </tr>\n",
       "    <tr>\n",
       "      <th>2</th>\n",
       "      <td>0.00035</td>\n",
       "      <td>0.159182</td>\n",
       "    </tr>\n",
       "    <tr>\n",
       "      <th>3</th>\n",
       "      <td>0.0005</td>\n",
       "      <td>0.158259</td>\n",
       "    </tr>\n",
       "    <tr>\n",
       "      <th>4</th>\n",
       "      <td>0.001</td>\n",
       "      <td>0.174267</td>\n",
       "    </tr>\n",
       "    <tr>\n",
       "      <th>5</th>\n",
       "      <td>0.005</td>\n",
       "      <td>0.212803</td>\n",
       "    </tr>\n",
       "    <tr>\n",
       "      <th>6</th>\n",
       "      <td>0.01</td>\n",
       "      <td>0.225295</td>\n",
       "    </tr>\n",
       "    <tr>\n",
       "      <th>7</th>\n",
       "      <td>mean</td>\n",
       "      <td>0.157934</td>\n",
       "    </tr>\n",
       "    <tr>\n",
       "      <th>8</th>\n",
       "      <td>median</td>\n",
       "      <td>0.167475</td>\n",
       "    </tr>\n",
       "  </tbody>\n",
       "</table>\n",
       "</div>"
      ],
      "text/plain": [
       "  threshold  knn_rmse\n",
       "0    0.0001  0.169907\n",
       "1   0.00025  0.161107\n",
       "2   0.00035  0.159182\n",
       "3    0.0005  0.158259\n",
       "4     0.001  0.174267\n",
       "5     0.005  0.212803\n",
       "6      0.01  0.225295\n",
       "7      mean  0.157934\n",
       "8    median  0.167475"
      ]
     },
     "execution_count": 236,
     "metadata": {},
     "output_type": "execute_result"
    }
   ],
   "source": [
    "knn_test_df"
   ]
  },
  {
   "cell_type": "code",
   "execution_count": 241,
   "metadata": {},
   "outputs": [
    {
     "data": {
      "image/png": "[encoded data removed]",
      "text/plain": [
       "<Figure size 2500x500 with 3 Axes>"
      ]
     },
     "metadata": {},
     "output_type": "display_data"
    }
   ],
   "source": [
    "# Plotting the rmse change vs. threshold values\n",
    "tests = {\"svr_rmse\": svr_test_df[:-2], \"xgbr_rmse\": xgbr_test_df[:-2], \"knn_rmse\": knn_test_df[:-2]}\n",
    "colors = [\"red\", \"green\", \"blue\"]\n",
    "\n",
    "plt.figure(figsize=(25, 5))\n",
    "for i, (k, v) in enumerate(tests.items()):\n",
    "    plt.subplot(1, 3, i+1)\n",
    "    pct_increase = (v[k] - min(v[k])) / min(v[k])\n",
    "    plt.plot(v[\"threshold\"], pct_increase, colors[i])\n",
    "    plt.xlim(0, 0.002)\n",
    "    plt.ylim(0, 0.3)\n",
    "    plt.title(k.replace(\"_rmse\", \"\").upper())\n",
    "    plt.xlabel(\"Threshold\")\n",
    "    plt.ylabel(\"Delta rmse (%)\")\n",
    "    plt.grid()\n",
    "plt.show()"
   ]
  },
  {
   "cell_type": "markdown",
   "metadata": {},
   "source": [
    "#### In-depth hyperparameter tuning the best models taking into account feature selection"
   ]
  },
  {
   "cell_type": "code",
   "execution_count": 62,
   "metadata": {},
   "outputs": [],
   "source": [
    "# Feature selection\n",
    "rfr_sel = RandomForestRegressor(max_depth=45, n_estimators=225, random_state=13)\n",
    "sel = SelectFromModel(rfr_sel, threshold=0.00025)\n",
    "sel = sel.fit(X_TRAIN, y_TRAIN)"
   ]
  },
  {
   "cell_type": "code",
   "execution_count": 200,
   "metadata": {},
   "outputs": [
    {
     "data": {
      "text/plain": [
       "621"
      ]
     },
     "execution_count": 200,
     "metadata": {},
     "output_type": "execute_result"
    }
   ],
   "source": [
    "# Number of features retained\n",
    "features_selected = np.arange(X_TRAIN.shape[1])[sel.get_support()]\n",
    "features_selected.shape[0]"
   ]
  },
  {
   "cell_type": "code",
   "execution_count": 63,
   "metadata": {},
   "outputs": [],
   "source": [
    "# Transforming the original dataset\n",
    "nX_TRAIN = sel.transform(X_TRAIN)\n",
    "nX_IVS = sel.transform(X_IVS)\n",
    "nX_TRAIN = pd.DataFrame(nX_TRAIN)\n",
    "nX_IVS = pd.DataFrame(nX_IVS)"
   ]
  },
  {
   "cell_type": "markdown",
   "metadata": {},
   "source": [
    "Extreme Gradient Boosting"
   ]
  },
  {
   "cell_type": "code",
   "execution_count": null,
   "metadata": {},
   "outputs": [],
   "source": [
    "params = {\n",
    "    \"max_depth\": np.arange(1, 21, 2),\n",
    "    \"learning_rate\": [0.01, 0.025, 0.05, 0.075, 0.1, 0.15, 0.2, 0.25, 0.3, 0.35, 0.4],\n",
    "    \"n_estimators\": [50, 100, 200, 300, 400, 500, 1000, 2000, 3000, 4000],\n",
    "    \"colsample_bytree\": [0.5, 0.6, 0.7, 0.8, 0.9, 1],\n",
    "    \"subsample\": [0.5, 0.6, 0.7, 0.8, 0.9, 1]\n",
    "}\n",
    "\n",
    "kf = KFold(n_splits=11, shuffle=True, random_state=13)\n",
    "gs_xgbr = GridSearchCV(XGBRegressor(), param_grid=params, cv=kf, scoring=\"neg_root_mean_squared_error\", n_jobs=-1)\n",
    "gs_xgbr = gs_xgbr.fit(nX_TRAIN, y_TRAIN)\n",
    "\n",
    "best_params_xgbr = gs_xgbr.best_params_"
   ]
  },
  {
   "cell_type": "code",
   "execution_count": 38,
   "metadata": {},
   "outputs": [
    {
     "name": "stdout",
     "output_type": "stream",
     "text": [
      "{'colsample_bytree': 0.7, 'learning_rate': 0.01, 'max_depth': 7, 'n_estimators': 3000, 'subsample': 0.8}\n"
     ]
    }
   ],
   "source": [
    "print(best_params_xgbr)"
   ]
  },
  {
   "cell_type": "code",
   "execution_count": 202,
   "metadata": {},
   "outputs": [
    {
     "name": "stdout",
     "output_type": "stream",
     "text": [
      "These are the statistics:\n",
      "The RVE is: 0.6923969887546519\n",
      "The rmse is: 0.1534411591969061\n",
      "The Correlation Score is: 0.8325 (p-value=0.000000e+00)\n",
      "\n",
      "The Maximum Error is: 0.8519051373004913\n",
      "The Mean Absolute Error is: 0.11249619968353194\n"
     ]
    }
   ],
   "source": [
    "xgbr_tune_sel = XGBRegressor(learning_rate=0.01, device=\"cuda:0\", colsample_bytree=0.7, subsample=0.8, max_depth=7, n_estimators=3000, objective =\"reg:squarederror\")\n",
    "truth, preds = kfold(xgbr_tune_sel, n_splits=11, nX_TRAIN=nX_TRAIN, scaler=None)\n",
    "stats = get_stats(truth, preds)\n",
    "print_stats(stats)"
   ]
  },
  {
   "cell_type": "markdown",
   "metadata": {},
   "source": [
    "Support Vector Machines"
   ]
  },
  {
   "cell_type": "code",
   "execution_count": null,
   "metadata": {},
   "outputs": [],
   "source": [
    "params = {\n",
    "    \"kernel\": [\"rbf\", \"poly\", \"sigmoid\"],\n",
    "    \"C\": [0.01, 0.3, 0.5, 0.7, 0.8, 0.9, 1, 1.1, 1.2, 1.3, 50],\n",
    "    \"epsilon\": [0.0001, 0.0005, 0.001, 0.005, 0.0075, 0.01, 0.025, 0.05, 0.1, 0.5],\n",
    "    \"tol\": [0.0001, 0.0005, 0.001, 0.005, 0.01, 0.05, 0.1]\n",
    "}\n",
    "\n",
    "kf = KFold(shuffle=True, n_splits=11, random_state=13)\n",
    "gs_svr_sel = GridSearchCV(SVR(max_iter=99999), param_grid=params, cv=kf, scoring=\"neg_root_mean_squared_error\", n_jobs=-1)\n",
    "gs_svr_sel = gs_svr_sel.fit(nX_TRAIN, y_TRAIN)\n",
    "\n",
    "best_params_svr = gs_svr_sel.best_params_"
   ]
  },
  {
   "cell_type": "code",
   "execution_count": 46,
   "metadata": {},
   "outputs": [
    {
     "name": "stdout",
     "output_type": "stream",
     "text": [
      "{'kernel': 'rbf', 'tol': 0.001, 'C': 1, 'epsilon': 0.025}\n"
     ]
    }
   ],
   "source": [
    "print(best_params_svr)"
   ]
  },
  {
   "cell_type": "code",
   "execution_count": 61,
   "metadata": {},
   "outputs": [
    {
     "name": "stdout",
     "output_type": "stream",
     "text": [
      "These are the statistics:\n",
      "The RVE is: 0.6900949712072484\n",
      "The rmse is: 0.1540029864968141\n",
      "The Correlation Score is: 0.8309 (p-value=0.000000e+00)\n",
      "\n",
      "The Maximum Error is: 0.9323973902815227\n",
      "The Mean Absolute Error is: 0.11160149427010432\n",
      "      \n"
     ]
    }
   ],
   "source": [
    "svr_tune_sel = SVR(C=0.8, epsilon=0.025, gamma=0.02, max_iter=99999)\n",
    "truth, preds = kfold(svr_tune_sel, n_splits=11, nX_TRAIN=nX_TRAIN)\n",
    "stats = get_stats(truth, preds)\n",
    "print_stats(stats)"
   ]
  },
  {
   "cell_type": "markdown",
   "metadata": {},
   "source": [
    "K-Nearest Neighbours"
   ]
  },
  {
   "cell_type": "code",
   "execution_count": 47,
   "metadata": {},
   "outputs": [],
   "source": [
    "# Defining several lambda functions to work as gaussian weights for KNN\n",
    "x1 = lambda x: np.exp(-(x**2)/1)\n",
    "x2 = lambda x: np.exp(-(x**2)/2)\n",
    "x3 = lambda x: np.exp(-(x**2)/3)\n",
    "x4 = lambda x: np.exp(-(x**2)/4)\n",
    "x5 = lambda x: np.exp(-(x**2)/5)\n",
    "x6 = lambda x: np.exp(-(x**2)/6)\n",
    "x7 = lambda x: np.exp(-(x**2)/7)\n",
    "x8 = lambda x: np.exp(-(x**2)/8)\n",
    "x9 = lambda x: np.exp(-(x**2)/9)\n",
    "x10 = lambda x: np.exp(-(x**2)/10)"
   ]
  },
  {
   "cell_type": "code",
   "execution_count": null,
   "metadata": {},
   "outputs": [],
   "source": [
    "params = {\n",
    "    \"n_neighbors\": np.arange(1, 21),\n",
    "    \"weights\": [\"uniform\", \"distance\", x1, x2, x3, x4, x5, x6, x7, x8, x9, x10]\n",
    "}\n",
    "\n",
    "kf = KFold(n_splits=11, shuffle=True, random_state=13)\n",
    "\n",
    "gs_knn_sel = GridSearchCV(estimator=KNeighborsRegressor(), param_grid=params, cv=kf, scoring=\"neg_root_mean_squared_error\", n_jobs=-1)\n",
    "gs_knn_sel = gs_knn_sel.fit(nX_TRAIN, y_TRAIN)\n",
    "\n",
    "best_params_knn = gs_knn_sel.best_params_"
   ]
  },
  {
   "cell_type": "code",
   "execution_count": 53,
   "metadata": {},
   "outputs": [
    {
     "name": "stdout",
     "output_type": "stream",
     "text": [
      "{'n_neighbors': 17, 'weights': <function <lambda> at 0x0000016BDF733D80>}\n"
     ]
    }
   ],
   "source": [
    "print(best_params_knn)"
   ]
  },
  {
   "cell_type": "code",
   "execution_count": 52,
   "metadata": {},
   "outputs": [
    {
     "name": "stdout",
     "output_type": "stream",
     "text": [
      "kernel weight = 4\n"
     ]
    }
   ],
   "source": [
    "# Checking which kernel weight the lambda function relates to\n",
    "for i, x in enumerate([x1, x2, x3, x4, x5, x6, x7, x8, x9, x10]):\n",
    "  if str(x) == \"<function <lambda> at 0x0000016BDF733D80>\":\n",
    "    print(\"kernel weight =\", i + 1)"
   ]
  },
  {
   "cell_type": "code",
   "execution_count": 204,
   "metadata": {},
   "outputs": [
    {
     "name": "stdout",
     "output_type": "stream",
     "text": [
      "These are the statistics:\n",
      "The RVE is: 0.6783167277980723\n",
      "The rmse is: 0.1569167443332566\n",
      "The Correlation Score is: 0.8237 (p-value=0.000000e+00)\n",
      "\n",
      "The Maximum Error is: 0.9216531940660795\n",
      "The Mean Absolute Error is: 0.11362390678118595\n"
     ]
    }
   ],
   "source": [
    "knn_tune_sel = KNeighborsRegressor(n_neighbors=14, weights=lambda x: np.exp(-(x**2)/7.5))\n",
    "truth, preds = kfold(knn_tune_sel, n_splits=11, nX_TRAIN=nX_TRAIN)\n",
    "stats = get_stats(truth, preds)\n",
    "print_stats(stats)"
   ]
  },
  {
   "cell_type": "markdown",
   "metadata": {},
   "source": [
    "Using a voting ensemble method to combine the best models predictions"
   ]
  },
  {
   "cell_type": "code",
   "execution_count": 72,
   "metadata": {},
   "outputs": [
    {
     "name": "stdout",
     "output_type": "stream",
     "text": [
      "These are the statistics:\n",
      "The RVE is: 0.70772157384392\n",
      "The rmse is: 0.14956667543024657\n",
      "The Correlation Score is: 0.8416 (p-value=0.000000e+00)\n",
      "\n",
      "The Maximum Error is: 0.9019852405493645\n",
      "The Mean Absolute Error is: 0.10842186945062497\n"
     ]
    }
   ],
   "source": [
    "xgbr_tune_sel = XGBRegressor(learning_rate=0.01, colsample_bytree=0.7, subsample=0.8, max_depth=7, n_estimators=3000, objective =\"reg:squarederror\")\n",
    "svr_tune_sel = SVR(C=0.8, epsilon=0.025, gamma=0.02, max_iter=99999)\n",
    "knn_tune_sel = KNeighborsRegressor(n_neighbors=14, weights=lambda x: np.exp(-(x**2)/7.5))\n",
    "\n",
    "vtr = VotingRegressor([(\"knn\", knn_tune_sel), (\"xgbr\", xgbr_tune_sel), (\"svr\", svr_tune_sel)])\n",
    "truth, preds = kfold(vtr, n_splits=11, nX_TRAIN=nX_TRAIN)\n",
    "stats = get_stats(truth, preds)\n",
    "print_stats(stats)"
   ]
  },
  {
   "cell_type": "markdown",
   "metadata": {},
   "source": [
    "Using a stacking ensemble model to combine the best models predictions"
   ]
  },
  {
   "cell_type": "code",
   "execution_count": 66,
   "metadata": {},
   "outputs": [
    {
     "name": "stdout",
     "output_type": "stream",
     "text": [
      "These are the statistics:\n",
      "The RVE is: 0.7080349413407199\n",
      "The rmse is: 0.14947789338551795\n",
      "The Correlation Score is: 0.8415 (p-value=0.000000e+00)\n",
      "\n",
      "The Maximum Error is: 0.9076986906502847\n",
      "The Mean Absolute Error is: 0.10771270224037519\n"
     ]
    }
   ],
   "source": [
    "kf = KFold(n_splits=5, shuffle=True, random_state=13)\n",
    "\n",
    "str = StackingRegressor([(\"knn\", knn_tune_sel), (\"xgbr\", xgbr_tune_sel), (\"svr\", svr_tune_sel)], cv=kf)\n",
    "truth, preds = kfold(str, n_splits=11, nX_TRAIN=nX_TRAIN)\n",
    "stats = get_stats(truth, preds)\n",
    "print_stats(stats)"
   ]
  },
  {
   "cell_type": "markdown",
   "metadata": {},
   "source": [
    "### Final model pipeline"
   ]
  },
  {
   "cell_type": "code",
   "execution_count": 67,
   "metadata": {},
   "outputs": [],
   "source": [
    "# Load dataset\n",
    "X_TRAIN, X_IVS, y_TRAIN, col_names = pickle.load(open(\"drd2_data.pickle\", \"rb\"))\n",
    "X_TRAIN = pd.DataFrame(X_TRAIN, columns=col_names)\n",
    "y_TRAIN = pd.Series(y_TRAIN, name=\"molecular_activity\")\n",
    "X_IVS = pd.DataFrame(X_IVS, columns=col_names)"
   ]
  },
  {
   "cell_type": "code",
   "execution_count": 68,
   "metadata": {},
   "outputs": [],
   "source": [
    "# Feature selection\n",
    "rfr_sel = RandomForestRegressor(max_depth=45, n_estimators=225, random_state=13)\n",
    "sel = SelectFromModel(rfr_sel)\n",
    "sel = sel.fit(X_TRAIN, y_TRAIN)\n",
    "nX_TRAIN = sel.transform(X_TRAIN)\n",
    "nX_IVS = sel.transform(X_IVS)"
   ]
  },
  {
   "cell_type": "code",
   "execution_count": 69,
   "metadata": {},
   "outputs": [],
   "source": [
    "# Data scaling\n",
    "scaler = MinMaxScaler()\n",
    "nX_TRAIN = scaler.fit_transform(nX_TRAIN)\n",
    "nX_IVS = scaler.transform(nX_IVS)\n",
    "nX_TRAIN = pd.DataFrame(nX_TRAIN)\n",
    "nX_IVS = pd.DataFrame(nX_IVS)"
   ]
  },
  {
   "cell_type": "code",
   "execution_count": 70,
   "metadata": {},
   "outputs": [],
   "source": [
    "# Fitting and predicting best model\n",
    "xgbr_tune_sel = XGBRegressor(learning_rate=0.01, colsample_bytree=0.7, subsample=0.8, max_depth=7, n_estimators=3000, objective =\"reg:squarederror\")\n",
    "svr_tune_sel = SVR(C=0.8, epsilon=0.025, gamma=0.02, max_iter=99999)\n",
    "knn_tune_sel = KNeighborsRegressor(n_neighbors=14, weights=lambda x: np.exp(-(x**2)/7.5))\n",
    "\n",
    "kf = KFold(n_splits=11, shuffle=True, random_state=13)\n",
    "\n",
    "best_model = StackingRegressor([(\"knn\", knn_tune_sel), (\"xgbr\", xgbr_tune_sel), (\"svr\", svr_tune_sel)], cv=kf)\n",
    "best_model = best_model.fit(nX_TRAIN, y_TRAIN)\n",
    "best_preds = best_model.predict(nX_IVS)"
   ]
  },
  {
   "cell_type": "code",
   "execution_count": 71,
   "metadata": {},
   "outputs": [],
   "source": [
    "# Saving predictions in a .txt\n",
    "with open(\"08.txt\", \"w\") as f:\n",
    "    np.savetxt(f, best_preds, fmt=\"%f\")"
   ]
  },
  {
   "cell_type": "markdown",
   "metadata": {},
   "source": [
    "#### Testing other feature selection techniques (PCA and Kernel PCA)"
   ]
  },
  {
   "cell_type": "markdown",
   "metadata": {},
   "source": [
    "##### PCA"
   ]
  },
  {
   "cell_type": "code",
   "execution_count": 43,
   "metadata": {},
   "outputs": [],
   "source": [
    "X_TRAIN, X_IVS, y_TRAIN, col_names = pickle.load(open(\"drd2_data.pickle\", \"rb\"))"
   ]
  },
  {
   "cell_type": "code",
   "execution_count": 44,
   "metadata": {},
   "outputs": [],
   "source": [
    "scal = MinMaxScaler()\n",
    "X_TRAIN = scal.fit_transform(X_TRAIN)\n",
    "X_IVS = scal.transform(X_IVS)\n",
    "X_TRAIN = pd.DataFrame(X_TRAIN, columns=col_names)\n",
    "y_TRAIN = pd.Series(y_TRAIN, name=\"molecular_activity\")\n",
    "X_IVS = pd.DataFrame(X_IVS, columns=col_names)"
   ]
  },
  {
   "cell_type": "code",
   "execution_count": 216,
   "metadata": {},
   "outputs": [],
   "source": [
    "# Different number of principal components to test\n",
    "pcs_to_test = [100, 200, 300, 400, 500, 600, 700, 800, 900, 1000]\n",
    "\n",
    "results = {\n",
    "    \"n_pcs\": [],\n",
    "    \"svr_rmse\": [],\n",
    "    \"xgbr_rmse\": [],\n",
    "    \"knn_rmse\": []\n",
    "}\n",
    "\n",
    "# For each number of principal components, transforms the data and fit best models\n",
    "for pc in pcs_to_test:\n",
    "    pca = PCA(n_components=pc)\n",
    "    pca = pca.fit(X_TRAIN)\n",
    "    nX_TRAIN = pca.transform(X_TRAIN)\n",
    "    nX_IVS = pca.transform(X_IVS)\n",
    "    nX_TRAIN = pd.DataFrame(nX_TRAIN)\n",
    "    nX_IVS = pd.DataFrame(nX_IVS)\n",
    "\n",
    "    results[\"n_pcs\"].append(pc)\n",
    "\n",
    "    xgbr_thr = XGBRegressor(learning_rate=0.01, device=\"cuda:0\", colsample_bytree=0.7, subsample=0.8, max_depth=7, n_estimators=3000, objective =\"reg:squarederror\")\n",
    "    truth, preds = kfold(xgbr_thr, n_splits=11, nX_TRAIN=nX_TRAIN, scaler=None)\n",
    "    results[\"xgbr_rmse\"].append(mean_squared_error(truth, preds, squared=False))\n",
    "\n",
    "    svr_thr = SVR(epsilon=0.025, gamma=0.03, max_iter=99999)\n",
    "    truth, preds = kfold(svr_thr, n_splits=11, nX_TRAIN=nX_TRAIN)\n",
    "    results[\"svr_rmse\"].append(mean_squared_error(truth, preds, squared=False))\n",
    "\n",
    "    knn_thr = KNeighborsRegressor(n_neighbors=17, weights=lambda x: np.exp(-(x**2)/4))\n",
    "    truth, preds = kfold(knn_thr, n_splits=11, nX_TRAIN=nX_TRAIN)\n",
    "    results[\"knn_rmse\"].append(mean_squared_error(truth, preds, squared=False))"
   ]
  },
  {
   "cell_type": "code",
   "execution_count": 217,
   "metadata": {},
   "outputs": [],
   "source": [
    "svr_pca_df = pd.DataFrame(results).groupby([\"n_pcs\"])[\"svr_rmse\"].mean().reset_index()\n",
    "xgbr_pca_df = pd.DataFrame(results).groupby([\"n_pcs\"])[\"xgbr_rmse\"].mean().reset_index()\n",
    "knn_pca_df = pd.DataFrame(results).groupby([\"n_pcs\"])[\"knn_rmse\"].mean().reset_index()"
   ]
  },
  {
   "cell_type": "code",
   "execution_count": 229,
   "metadata": {},
   "outputs": [
    {
     "data": {
      "text/html": [
       "<div>\n",
       "<style scoped>\n",
       "    .dataframe tbody tr th:only-of-type {\n",
       "        vertical-align: middle;\n",
       "    }\n",
       "\n",
       "    .dataframe tbody tr th {\n",
       "        vertical-align: top;\n",
       "    }\n",
       "\n",
       "    .dataframe thead th {\n",
       "        text-align: right;\n",
       "    }\n",
       "</style>\n",
       "<table border=\"1\" class=\"dataframe\">\n",
       "  <thead>\n",
       "    <tr style=\"text-align: right;\">\n",
       "      <th></th>\n",
       "      <th>n_pcs</th>\n",
       "      <th>svr_rmse</th>\n",
       "    </tr>\n",
       "  </thead>\n",
       "  <tbody>\n",
       "    <tr>\n",
       "      <th>0</th>\n",
       "      <td>100</td>\n",
       "      <td>0.204617</td>\n",
       "    </tr>\n",
       "    <tr>\n",
       "      <th>1</th>\n",
       "      <td>200</td>\n",
       "      <td>0.186485</td>\n",
       "    </tr>\n",
       "    <tr>\n",
       "      <th>2</th>\n",
       "      <td>300</td>\n",
       "      <td>0.176324</td>\n",
       "    </tr>\n",
       "    <tr>\n",
       "      <th>3</th>\n",
       "      <td>400</td>\n",
       "      <td>0.171338</td>\n",
       "    </tr>\n",
       "    <tr>\n",
       "      <th>4</th>\n",
       "      <td>500</td>\n",
       "      <td>0.168256</td>\n",
       "    </tr>\n",
       "    <tr>\n",
       "      <th>5</th>\n",
       "      <td>600</td>\n",
       "      <td>0.165160</td>\n",
       "    </tr>\n",
       "    <tr>\n",
       "      <th>6</th>\n",
       "      <td>700</td>\n",
       "      <td>0.163833</td>\n",
       "    </tr>\n",
       "    <tr>\n",
       "      <th>7</th>\n",
       "      <td>800</td>\n",
       "      <td>0.162906</td>\n",
       "    </tr>\n",
       "    <tr>\n",
       "      <th>8</th>\n",
       "      <td>900</td>\n",
       "      <td>0.163156</td>\n",
       "    </tr>\n",
       "    <tr>\n",
       "      <th>9</th>\n",
       "      <td>1000</td>\n",
       "      <td>0.163694</td>\n",
       "    </tr>\n",
       "  </tbody>\n",
       "</table>\n",
       "</div>"
      ],
      "text/plain": [
       "   n_pcs  svr_rmse\n",
       "0    100  0.204617\n",
       "1    200  0.186485\n",
       "2    300  0.176324\n",
       "3    400  0.171338\n",
       "4    500  0.168256\n",
       "5    600  0.165160\n",
       "6    700  0.163833\n",
       "7    800  0.162906\n",
       "8    900  0.163156\n",
       "9   1000  0.163694"
      ]
     },
     "execution_count": 229,
     "metadata": {},
     "output_type": "execute_result"
    }
   ],
   "source": [
    "svr_pca_df"
   ]
  },
  {
   "cell_type": "code",
   "execution_count": 230,
   "metadata": {},
   "outputs": [
    {
     "data": {
      "text/html": [
       "<div>\n",
       "<style scoped>\n",
       "    .dataframe tbody tr th:only-of-type {\n",
       "        vertical-align: middle;\n",
       "    }\n",
       "\n",
       "    .dataframe tbody tr th {\n",
       "        vertical-align: top;\n",
       "    }\n",
       "\n",
       "    .dataframe thead th {\n",
       "        text-align: right;\n",
       "    }\n",
       "</style>\n",
       "<table border=\"1\" class=\"dataframe\">\n",
       "  <thead>\n",
       "    <tr style=\"text-align: right;\">\n",
       "      <th></th>\n",
       "      <th>n_pcs</th>\n",
       "      <th>xgbr_rmse</th>\n",
       "    </tr>\n",
       "  </thead>\n",
       "  <tbody>\n",
       "    <tr>\n",
       "      <th>0</th>\n",
       "      <td>100</td>\n",
       "      <td>0.169130</td>\n",
       "    </tr>\n",
       "    <tr>\n",
       "      <th>1</th>\n",
       "      <td>200</td>\n",
       "      <td>0.168234</td>\n",
       "    </tr>\n",
       "    <tr>\n",
       "      <th>2</th>\n",
       "      <td>300</td>\n",
       "      <td>0.168465</td>\n",
       "    </tr>\n",
       "    <tr>\n",
       "      <th>3</th>\n",
       "      <td>400</td>\n",
       "      <td>0.169684</td>\n",
       "    </tr>\n",
       "    <tr>\n",
       "      <th>4</th>\n",
       "      <td>500</td>\n",
       "      <td>0.170465</td>\n",
       "    </tr>\n",
       "    <tr>\n",
       "      <th>5</th>\n",
       "      <td>600</td>\n",
       "      <td>0.171128</td>\n",
       "    </tr>\n",
       "    <tr>\n",
       "      <th>6</th>\n",
       "      <td>700</td>\n",
       "      <td>0.172155</td>\n",
       "    </tr>\n",
       "    <tr>\n",
       "      <th>7</th>\n",
       "      <td>800</td>\n",
       "      <td>0.172657</td>\n",
       "    </tr>\n",
       "    <tr>\n",
       "      <th>8</th>\n",
       "      <td>900</td>\n",
       "      <td>0.173147</td>\n",
       "    </tr>\n",
       "    <tr>\n",
       "      <th>9</th>\n",
       "      <td>1000</td>\n",
       "      <td>0.174149</td>\n",
       "    </tr>\n",
       "  </tbody>\n",
       "</table>\n",
       "</div>"
      ],
      "text/plain": [
       "   n_pcs  xgbr_rmse\n",
       "0    100   0.169130\n",
       "1    200   0.168234\n",
       "2    300   0.168465\n",
       "3    400   0.169684\n",
       "4    500   0.170465\n",
       "5    600   0.171128\n",
       "6    700   0.172155\n",
       "7    800   0.172657\n",
       "8    900   0.173147\n",
       "9   1000   0.174149"
      ]
     },
     "execution_count": 230,
     "metadata": {},
     "output_type": "execute_result"
    }
   ],
   "source": [
    "xgbr_pca_df"
   ]
  },
  {
   "cell_type": "code",
   "execution_count": 231,
   "metadata": {},
   "outputs": [
    {
     "data": {
      "text/html": [
       "<div>\n",
       "<style scoped>\n",
       "    .dataframe tbody tr th:only-of-type {\n",
       "        vertical-align: middle;\n",
       "    }\n",
       "\n",
       "    .dataframe tbody tr th {\n",
       "        vertical-align: top;\n",
       "    }\n",
       "\n",
       "    .dataframe thead th {\n",
       "        text-align: right;\n",
       "    }\n",
       "</style>\n",
       "<table border=\"1\" class=\"dataframe\">\n",
       "  <thead>\n",
       "    <tr style=\"text-align: right;\">\n",
       "      <th></th>\n",
       "      <th>n_pcs</th>\n",
       "      <th>knn_rmse</th>\n",
       "    </tr>\n",
       "  </thead>\n",
       "  <tbody>\n",
       "    <tr>\n",
       "      <th>0</th>\n",
       "      <td>100</td>\n",
       "      <td>0.178226</td>\n",
       "    </tr>\n",
       "    <tr>\n",
       "      <th>1</th>\n",
       "      <td>200</td>\n",
       "      <td>0.177205</td>\n",
       "    </tr>\n",
       "    <tr>\n",
       "      <th>2</th>\n",
       "      <td>300</td>\n",
       "      <td>0.174707</td>\n",
       "    </tr>\n",
       "    <tr>\n",
       "      <th>3</th>\n",
       "      <td>400</td>\n",
       "      <td>0.175455</td>\n",
       "    </tr>\n",
       "    <tr>\n",
       "      <th>4</th>\n",
       "      <td>500</td>\n",
       "      <td>0.178002</td>\n",
       "    </tr>\n",
       "    <tr>\n",
       "      <th>5</th>\n",
       "      <td>600</td>\n",
       "      <td>0.183690</td>\n",
       "    </tr>\n",
       "    <tr>\n",
       "      <th>6</th>\n",
       "      <td>700</td>\n",
       "      <td>0.193010</td>\n",
       "    </tr>\n",
       "    <tr>\n",
       "      <th>7</th>\n",
       "      <td>800</td>\n",
       "      <td>0.201383</td>\n",
       "    </tr>\n",
       "    <tr>\n",
       "      <th>8</th>\n",
       "      <td>900</td>\n",
       "      <td>0.204984</td>\n",
       "    </tr>\n",
       "    <tr>\n",
       "      <th>9</th>\n",
       "      <td>1000</td>\n",
       "      <td>0.210465</td>\n",
       "    </tr>\n",
       "  </tbody>\n",
       "</table>\n",
       "</div>"
      ],
      "text/plain": [
       "   n_pcs  knn_rmse\n",
       "0    100  0.178226\n",
       "1    200  0.177205\n",
       "2    300  0.174707\n",
       "3    400  0.175455\n",
       "4    500  0.178002\n",
       "5    600  0.183690\n",
       "6    700  0.193010\n",
       "7    800  0.201383\n",
       "8    900  0.204984\n",
       "9   1000  0.210465"
      ]
     },
     "execution_count": 231,
     "metadata": {},
     "output_type": "execute_result"
    }
   ],
   "source": [
    "knn_pca_df"
   ]
  },
  {
   "cell_type": "code",
   "execution_count": null,
   "metadata": {},
   "outputs": [
    {
     "data": {
      "image/png": "[encoded data removed]",
      "text/plain": [
       "<Figure size 2500x500 with 3 Axes>"
      ]
     },
     "metadata": {},
     "output_type": "display_data"
    }
   ],
   "source": [
    "# Plotting the rmse change vs. number of principal components\n",
    "tests = {\"svr_rmse\": svr_pca_df, \"xgbr_rmse\": xgbr_pca_df, \"knn_rmse\": knn_pca_df}\n",
    "colors = [\"red\", \"green\", \"blue\"]\n",
    "\n",
    "plt.figure(figsize=(25, 10))\n",
    "for i, (k, v) in enumerate(tests.items()):\n",
    "    plt.subplot(2, 3, i+1)\n",
    "    pct_increase = (v[k] - min(v[k])) / min(v[k])\n",
    "    plt.plot(v[\"n_pcs\"], pct_increase, colors[i])\n",
    "    plt.axvline(x=800 if k==\"svr_rmse\" else 200 if k==\"xgbr_rmse\" else 300, color='black', ls=\"--\")\n",
    "    plt.title(k.replace(\"_rmse\", \"\").upper())\n",
    "    plt.xlabel(\"Number of principal components\")\n",
    "    plt.ylabel(\"Delta rmse (%)\")\n",
    "    plt.grid()\n",
    "plt.show()"
   ]
  },
  {
   "cell_type": "code",
   "execution_count": 45,
   "metadata": {},
   "outputs": [
    {
     "name": "stdout",
     "output_type": "stream",
     "text": [
      "                            OLS Regression Results                            \n",
      "==============================================================================\n",
      "Dep. Variable:     molecular_activity   R-squared:                       0.632\n",
      "Model:                            OLS   Adj. R-squared:                  0.600\n",
      "Method:                 Least Squares   F-statistic:                     19.32\n",
      "Date:                Mon, 18 Dec 2023   Prob (F-statistic):               0.00\n",
      "Time:                        22:39:47   Log-Likelihood:                 2689.6\n",
      "No. Observations:                7337   AIC:                            -4177.\n",
      "Df Residuals:                    6736   BIC:                            -29.97\n",
      "Df Model:                         600                                         \n",
      "Covariance Type:            nonrobust                                         \n",
      "==============================================================================\n",
      "==============================================================================\n",
      "Omnibus:                      114.977   Durbin-Watson:                   1.967\n",
      "Prob(Omnibus):                  0.000   Jarque-Bera (JB):              191.933\n",
      "Skew:                           0.130   Prob(JB):                     2.10e-42\n",
      "Kurtosis:                       3.748   Cond. No.                         12.7\n",
      "==============================================================================\n"
     ]
    }
   ],
   "source": [
    "# Checking multicollinearity after PCA\n",
    "pca = PCA(n_components=600)\n",
    "pca = pca.fit(X_TRAIN)\n",
    "nX_TRAIN = pca.transform(X_TRAIN)\n",
    "nX_IVS = pca.transform(X_IVS)\n",
    "nX_TRAIN = pd.DataFrame(nX_TRAIN)\n",
    "nX_IVS = pd.DataFrame(nX_IVS)\n",
    "\n",
    "X_tr = add_constant(nX_TRAIN)\n",
    "mdl = OLS(y_TRAIN, X_tr, hasconst=12).fit()\n",
    "print(mdl.summary().tables[0])\n",
    "#print(mdl.summary().tables[1])\n",
    "print(mdl.summary().tables[2])"
   ]
  },
  {
   "cell_type": "code",
   "execution_count": 46,
   "metadata": {},
   "outputs": [
    {
     "name": "stdout",
     "output_type": "stream",
     "text": [
      "These are the statistics:\n",
      "The RVE is: 0.5571237507210917\n",
      "The rmse is: 0.1840993350527069\n",
      "The Correlation Score is: 0.7482 (p-value=0.000000e+00)\n",
      "\n",
      "The Maximum Error is: 0.9455046286060731\n",
      "The Mean Absolute Error is: 0.1423406142209829\n"
     ]
    }
   ],
   "source": [
    "lr_pca = LinearRegression()\n",
    "truth, preds = kfold(lr_pca, n_splits=11, nX_TRAIN=nX_TRAIN)\n",
    "print_stats(get_stats(truth, preds))"
   ]
  },
  {
   "cell_type": "markdown",
   "metadata": {},
   "source": [
    "#### Kernel PCA"
   ]
  },
  {
   "cell_type": "code",
   "execution_count": 219,
   "metadata": {},
   "outputs": [],
   "source": [
    "# Different number of principal components to test\n",
    "pcs_to_test = [100, 200, 300, 400, 500, 600, 700, 800, 900, 1000]\n",
    "\n",
    "results = {\n",
    "    \"n_pcs\": [],\n",
    "    \"svr_rmse\": [],\n",
    "    \"xgbr_rmse\": [],\n",
    "    \"knn_rmse\": []\n",
    "}\n",
    "\n",
    "# For each number of principal components, transforms the data and fit best models\n",
    "for pc in pcs_to_test:\n",
    "    kpca = KernelPCA(n_components=pc)\n",
    "    kpca = kpca.fit(X_TRAIN)\n",
    "    nX_TRAIN = kpca.transform(X_TRAIN)\n",
    "    nX_IVS = kpca.transform(X_IVS)\n",
    "    nX_TRAIN = pd.DataFrame(nX_TRAIN)\n",
    "    nX_IVS = pd.DataFrame(nX_IVS)\n",
    "\n",
    "    results[\"n_pcs\"].append(pc)\n",
    "\n",
    "    xgbr_thr = XGBRegressor(learning_rate=0.01, device=\"cuda:0\", colsample_bytree=0.7, subsample=0.8, max_depth=7, n_estimators=3000, objective =\"reg:squarederror\")\n",
    "    truth, preds = kfold(xgbr_thr, n_splits=11, nX_TRAIN=nX_TRAIN, scaler=None)\n",
    "    results[\"xgbr_rmse\"].append(mean_squared_error(truth, preds, squared=False))\n",
    "\n",
    "    svr_thr = SVR(epsilon=0.025, gamma=0.03, max_iter=99999)\n",
    "    truth, preds = kfold(svr_thr, n_splits=11, nX_TRAIN=nX_TRAIN)\n",
    "    results[\"svr_rmse\"].append(mean_squared_error(truth, preds, squared=False))\n",
    "\n",
    "    knn_thr = KNeighborsRegressor(n_neighbors=17, weights=lambda x: np.exp(-(x**2)/4))\n",
    "    truth, preds = kfold(knn_thr, n_splits=11, nX_TRAIN=nX_TRAIN)\n",
    "    results[\"knn_rmse\"].append(mean_squared_error(truth, preds, squared=False))"
   ]
  },
  {
   "cell_type": "code",
   "execution_count": 220,
   "metadata": {},
   "outputs": [],
   "source": [
    "svr_kpca_df = pd.DataFrame(results).groupby([\"n_pcs\"])[\"svr_rmse\"].mean().reset_index()\n",
    "xgbr_kpca_df = pd.DataFrame(results).groupby([\"n_pcs\"])[\"xgbr_rmse\"].mean().reset_index()\n",
    "knn_kpca_df = pd.DataFrame(results).groupby([\"n_pcs\"])[\"knn_rmse\"].mean().reset_index()"
   ]
  },
  {
   "cell_type": "code",
   "execution_count": 226,
   "metadata": {},
   "outputs": [
    {
     "data": {
      "text/html": [
       "<div>\n",
       "<style scoped>\n",
       "    .dataframe tbody tr th:only-of-type {\n",
       "        vertical-align: middle;\n",
       "    }\n",
       "\n",
       "    .dataframe tbody tr th {\n",
       "        vertical-align: top;\n",
       "    }\n",
       "\n",
       "    .dataframe thead th {\n",
       "        text-align: right;\n",
       "    }\n",
       "</style>\n",
       "<table border=\"1\" class=\"dataframe\">\n",
       "  <thead>\n",
       "    <tr style=\"text-align: right;\">\n",
       "      <th></th>\n",
       "      <th>n_pcs</th>\n",
       "      <th>svr_rmse</th>\n",
       "    </tr>\n",
       "  </thead>\n",
       "  <tbody>\n",
       "    <tr>\n",
       "      <th>0</th>\n",
       "      <td>100</td>\n",
       "      <td>0.204509</td>\n",
       "    </tr>\n",
       "    <tr>\n",
       "      <th>1</th>\n",
       "      <td>200</td>\n",
       "      <td>0.185935</td>\n",
       "    </tr>\n",
       "    <tr>\n",
       "      <th>2</th>\n",
       "      <td>300</td>\n",
       "      <td>0.177028</td>\n",
       "    </tr>\n",
       "    <tr>\n",
       "      <th>3</th>\n",
       "      <td>400</td>\n",
       "      <td>0.171390</td>\n",
       "    </tr>\n",
       "    <tr>\n",
       "      <th>4</th>\n",
       "      <td>500</td>\n",
       "      <td>0.168351</td>\n",
       "    </tr>\n",
       "    <tr>\n",
       "      <th>5</th>\n",
       "      <td>600</td>\n",
       "      <td>0.165583</td>\n",
       "    </tr>\n",
       "    <tr>\n",
       "      <th>6</th>\n",
       "      <td>700</td>\n",
       "      <td>0.163704</td>\n",
       "    </tr>\n",
       "    <tr>\n",
       "      <th>7</th>\n",
       "      <td>800</td>\n",
       "      <td>0.162981</td>\n",
       "    </tr>\n",
       "    <tr>\n",
       "      <th>8</th>\n",
       "      <td>900</td>\n",
       "      <td>0.163169</td>\n",
       "    </tr>\n",
       "    <tr>\n",
       "      <th>9</th>\n",
       "      <td>1000</td>\n",
       "      <td>0.163650</td>\n",
       "    </tr>\n",
       "  </tbody>\n",
       "</table>\n",
       "</div>"
      ],
      "text/plain": [
       "   n_pcs  svr_rmse\n",
       "0    100  0.204509\n",
       "1    200  0.185935\n",
       "2    300  0.177028\n",
       "3    400  0.171390\n",
       "4    500  0.168351\n",
       "5    600  0.165583\n",
       "6    700  0.163704\n",
       "7    800  0.162981\n",
       "8    900  0.163169\n",
       "9   1000  0.163650"
      ]
     },
     "execution_count": 226,
     "metadata": {},
     "output_type": "execute_result"
    }
   ],
   "source": [
    "svr_kpca_df"
   ]
  },
  {
   "cell_type": "code",
   "execution_count": 227,
   "metadata": {},
   "outputs": [
    {
     "data": {
      "text/html": [
       "<div>\n",
       "<style scoped>\n",
       "    .dataframe tbody tr th:only-of-type {\n",
       "        vertical-align: middle;\n",
       "    }\n",
       "\n",
       "    .dataframe tbody tr th {\n",
       "        vertical-align: top;\n",
       "    }\n",
       "\n",
       "    .dataframe thead th {\n",
       "        text-align: right;\n",
       "    }\n",
       "</style>\n",
       "<table border=\"1\" class=\"dataframe\">\n",
       "  <thead>\n",
       "    <tr style=\"text-align: right;\">\n",
       "      <th></th>\n",
       "      <th>n_pcs</th>\n",
       "      <th>xgbr_rmse</th>\n",
       "    </tr>\n",
       "  </thead>\n",
       "  <tbody>\n",
       "    <tr>\n",
       "      <th>0</th>\n",
       "      <td>100</td>\n",
       "      <td>0.169310</td>\n",
       "    </tr>\n",
       "    <tr>\n",
       "      <th>1</th>\n",
       "      <td>200</td>\n",
       "      <td>0.167890</td>\n",
       "    </tr>\n",
       "    <tr>\n",
       "      <th>2</th>\n",
       "      <td>300</td>\n",
       "      <td>0.168642</td>\n",
       "    </tr>\n",
       "    <tr>\n",
       "      <th>3</th>\n",
       "      <td>400</td>\n",
       "      <td>0.169180</td>\n",
       "    </tr>\n",
       "    <tr>\n",
       "      <th>4</th>\n",
       "      <td>500</td>\n",
       "      <td>0.169951</td>\n",
       "    </tr>\n",
       "    <tr>\n",
       "      <th>5</th>\n",
       "      <td>600</td>\n",
       "      <td>0.171104</td>\n",
       "    </tr>\n",
       "    <tr>\n",
       "      <th>6</th>\n",
       "      <td>700</td>\n",
       "      <td>0.172151</td>\n",
       "    </tr>\n",
       "    <tr>\n",
       "      <th>7</th>\n",
       "      <td>800</td>\n",
       "      <td>0.172500</td>\n",
       "    </tr>\n",
       "    <tr>\n",
       "      <th>8</th>\n",
       "      <td>900</td>\n",
       "      <td>0.173101</td>\n",
       "    </tr>\n",
       "    <tr>\n",
       "      <th>9</th>\n",
       "      <td>1000</td>\n",
       "      <td>0.174096</td>\n",
       "    </tr>\n",
       "  </tbody>\n",
       "</table>\n",
       "</div>"
      ],
      "text/plain": [
       "   n_pcs  xgbr_rmse\n",
       "0    100   0.169310\n",
       "1    200   0.167890\n",
       "2    300   0.168642\n",
       "3    400   0.169180\n",
       "4    500   0.169951\n",
       "5    600   0.171104\n",
       "6    700   0.172151\n",
       "7    800   0.172500\n",
       "8    900   0.173101\n",
       "9   1000   0.174096"
      ]
     },
     "execution_count": 227,
     "metadata": {},
     "output_type": "execute_result"
    }
   ],
   "source": [
    "xgbr_kpca_df"
   ]
  },
  {
   "cell_type": "code",
   "execution_count": 228,
   "metadata": {},
   "outputs": [
    {
     "data": {
      "text/html": [
       "<div>\n",
       "<style scoped>\n",
       "    .dataframe tbody tr th:only-of-type {\n",
       "        vertical-align: middle;\n",
       "    }\n",
       "\n",
       "    .dataframe tbody tr th {\n",
       "        vertical-align: top;\n",
       "    }\n",
       "\n",
       "    .dataframe thead th {\n",
       "        text-align: right;\n",
       "    }\n",
       "</style>\n",
       "<table border=\"1\" class=\"dataframe\">\n",
       "  <thead>\n",
       "    <tr style=\"text-align: right;\">\n",
       "      <th></th>\n",
       "      <th>n_pcs</th>\n",
       "      <th>knn_rmse</th>\n",
       "    </tr>\n",
       "  </thead>\n",
       "  <tbody>\n",
       "    <tr>\n",
       "      <th>0</th>\n",
       "      <td>100</td>\n",
       "      <td>0.178457</td>\n",
       "    </tr>\n",
       "    <tr>\n",
       "      <th>1</th>\n",
       "      <td>200</td>\n",
       "      <td>0.176901</td>\n",
       "    </tr>\n",
       "    <tr>\n",
       "      <th>2</th>\n",
       "      <td>300</td>\n",
       "      <td>0.174910</td>\n",
       "    </tr>\n",
       "    <tr>\n",
       "      <th>3</th>\n",
       "      <td>400</td>\n",
       "      <td>0.175314</td>\n",
       "    </tr>\n",
       "    <tr>\n",
       "      <th>4</th>\n",
       "      <td>500</td>\n",
       "      <td>0.177611</td>\n",
       "    </tr>\n",
       "    <tr>\n",
       "      <th>5</th>\n",
       "      <td>600</td>\n",
       "      <td>0.182671</td>\n",
       "    </tr>\n",
       "    <tr>\n",
       "      <th>6</th>\n",
       "      <td>700</td>\n",
       "      <td>0.191938</td>\n",
       "    </tr>\n",
       "    <tr>\n",
       "      <th>7</th>\n",
       "      <td>800</td>\n",
       "      <td>0.200241</td>\n",
       "    </tr>\n",
       "    <tr>\n",
       "      <th>8</th>\n",
       "      <td>900</td>\n",
       "      <td>0.204906</td>\n",
       "    </tr>\n",
       "    <tr>\n",
       "      <th>9</th>\n",
       "      <td>1000</td>\n",
       "      <td>0.209489</td>\n",
       "    </tr>\n",
       "  </tbody>\n",
       "</table>\n",
       "</div>"
      ],
      "text/plain": [
       "   n_pcs  knn_rmse\n",
       "0    100  0.178457\n",
       "1    200  0.176901\n",
       "2    300  0.174910\n",
       "3    400  0.175314\n",
       "4    500  0.177611\n",
       "5    600  0.182671\n",
       "6    700  0.191938\n",
       "7    800  0.200241\n",
       "8    900  0.204906\n",
       "9   1000  0.209489"
      ]
     },
     "execution_count": 228,
     "metadata": {},
     "output_type": "execute_result"
    }
   ],
   "source": [
    "knn_kpca_df"
   ]
  },
  {
   "cell_type": "code",
   "execution_count": 221,
   "metadata": {},
   "outputs": [
    {
     "data": {
      "image/png": "[encoded data removed]",
      "text/plain": [
       "<Figure size 2500x500 with 3 Axes>"
      ]
     },
     "metadata": {},
     "output_type": "display_data"
    }
   ],
   "source": [
    "# Plotting the rmse change vs. number of principal components\n",
    "tests = {\"svr_rmse\": svr_kpca_df, \"xgbr_rmse\": xgbr_kpca_df, \"knn_rmse\": knn_kpca_df}\n",
    "colors = [\"red\", \"green\", \"blue\"]\n",
    "\n",
    "plt.figure(figsize=(25, 5))\n",
    "for i, (k, v) in enumerate(tests.items()):\n",
    "    plt.subplot(1, 3, i+1)\n",
    "    pct_increase = (v[k] - min(v[k])) / min(v[k])\n",
    "    plt.plot(v[\"n_pcs\"], pct_increase, colors[i])\n",
    "    plt.title(k.replace(\"_rmse\", \"\").upper())\n",
    "    plt.xlabel(\"Number of principal components\")\n",
    "    plt.ylabel(\"Delta rmse (%)\")\n",
    "    plt.grid()\n",
    "plt.show()"
   ]
  },
  {
   "cell_type": "code",
   "execution_count": 47,
   "metadata": {},
   "outputs": [
    {
     "name": "stdout",
     "output_type": "stream",
     "text": [
      "                            OLS Regression Results                            \n",
      "==============================================================================\n",
      "Dep. Variable:     molecular_activity   R-squared:                       0.632\n",
      "Model:                            OLS   Adj. R-squared:                  0.600\n",
      "Method:                 Least Squares   F-statistic:                     19.32\n",
      "Date:                Mon, 18 Dec 2023   Prob (F-statistic):               0.00\n",
      "Time:                        22:40:29   Log-Likelihood:                 2689.6\n",
      "No. Observations:                7337   AIC:                            -4177.\n",
      "Df Residuals:                    6736   BIC:                            -29.97\n",
      "Df Model:                         600                                         \n",
      "Covariance Type:            nonrobust                                         \n",
      "==============================================================================\n",
      "==============================================================================\n",
      "Omnibus:                      114.977   Durbin-Watson:                   1.967\n",
      "Prob(Omnibus):                  0.000   Jarque-Bera (JB):              191.933\n",
      "Skew:                           0.130   Prob(JB):                     2.10e-42\n",
      "Kurtosis:                       3.748   Cond. No.                         12.7\n",
      "==============================================================================\n"
     ]
    }
   ],
   "source": [
    "# Checking multicollinearity after Kernel PCA\n",
    "kpca = KernelPCA(n_components=600)\n",
    "kpca = kpca.fit(X_TRAIN)\n",
    "nX_TRAIN = pca.transform(X_TRAIN)\n",
    "nX_IVS = pca.transform(X_IVS)\n",
    "nX_TRAIN = pd.DataFrame(nX_TRAIN)\n",
    "nX_IVS = pd.DataFrame(nX_IVS)\n",
    "\n",
    "X_tr = add_constant(nX_TRAIN)\n",
    "mdl = OLS(y_TRAIN, X_tr, hasconst=12).fit()\n",
    "print(mdl.summary().tables[0])\n",
    "#print(mdl.summary().tables[1])\n",
    "print(mdl.summary().tables[2])"
   ]
  },
  {
   "cell_type": "code",
   "execution_count": 48,
   "metadata": {},
   "outputs": [
    {
     "name": "stdout",
     "output_type": "stream",
     "text": [
      "These are the statistics:\n",
      "The RVE is: 0.5571237507210917\n",
      "The rmse is: 0.1840993350527069\n",
      "The Correlation Score is: 0.7482 (p-value=0.000000e+00)\n",
      "\n",
      "The Maximum Error is: 0.9455046286060731\n",
      "The Mean Absolute Error is: 0.1423406142209829\n"
     ]
    }
   ],
   "source": [
    "lr_kpca = LinearRegression()\n",
    "truth, preds = kfold(lr_kpca, n_splits=11, nX_TRAIN=nX_TRAIN)\n",
    "print_stats(get_stats(truth, preds))"
   ]
  }
 ],
 "metadata": {
  "kernelspec": {
   "display_name": "Python 3",
   "language": "python",
   "name": "python3"
  },
  "language_info": {
   "codemirror_mode": {
    "name": "ipython",
    "version": 3
   },
   "file_extension": ".py",
   "mimetype": "text/x-python",
   "name": "python",
   "nbconvert_exporter": "python",
   "pygments_lexer": "ipython3",
   "version": "3.11.5"
  }
 },
 "nbformat": 4,
 "nbformat_minor": 2
}
